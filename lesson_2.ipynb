{
 "cells": [
  {
   "cell_type": "code",
   "execution_count": 1,
   "metadata": {},
   "outputs": [],
   "source": [
    "name = 'Auguste'"
   ]
  },
  {
   "cell_type": "code",
   "execution_count": 8,
   "metadata": {},
   "outputs": [
    {
     "name": "stdout",
     "output_type": "stream",
     "text": [
      "True\n",
      "False\n",
      "1972\n",
      "True\n",
      "False\n",
      "19 72\n"
     ]
    }
   ],
   "source": [
    "print( '1972'.isdigit())\n",
    "print( '1972 '.isdigit())\n",
    "print( '1972      '.strip())\n",
    "print( '1972      '.strip().isdigit())\n",
    "print( '19 72      '.strip().isdigit())\n",
    "print( '19 72      '.strip())"
   ]
  },
  {
   "attachments": {},
   "cell_type": "markdown",
   "metadata": {},
   "source": [
    "String operations"
   ]
  },
  {
   "cell_type": "code",
   "execution_count": 9,
   "metadata": {},
   "outputs": [
    {
     "data": {
      "text/plain": [
       "'Auguste hello'"
      ]
     },
     "execution_count": 9,
     "metadata": {},
     "output_type": "execute_result"
    }
   ],
   "source": [
    "'Auguste'+' '+'hello'"
   ]
  },
  {
   "cell_type": "code",
   "execution_count": 10,
   "metadata": {},
   "outputs": [
    {
     "data": {
      "text/plain": [
       "'hi hi hi hi hi hi hi hi hi hi hi hi hi hi hi hi hi hi hi hi hi hi hi hi hi hi hi hi hi hi hi hi hi hi hi hi hi hi hi hi hi hi hi hi hi hi hi hi hi hi hi hi hi hi hi hi hi hi hi hi hi hi hi hi hi hi hi hi hi hi hi hi hi hi hi hi hi hi hi hi hi hi hi hi hi hi hi hi hi hi hi hi hi hi hi hi hi hi hi hi hi hi hi hi hi hi hi hi hi hi hi hi hi hi hi hi hi hi hi hi hi hi hi hi hi hi hi hi hi hi hi hi hi hi hi hi hi hi hi hi hi hi hi hi hi hi hi hi hi hi hi hi hi hi hi hi hi hi hi hi hi hi hi hi hi hi hi hi hi hi hi hi hi hi hi hi hi hi hi hi hi hi hi hi hi hi hi hi hi hi hi hi hi hi hi hi hi hi hi hi hi hi hi hi hi hi hi hi hi hi hi hi hi hi hi hi hi hi hi hi hi hi hi hi hi hi hi hi hi hi hi hi hi hi hi hi hi hi hi hi hi hi hi hi hi hi hi hi hi hi hi hi hi hi hi hi hi hi hi hi hi hi hi hi hi hi hi hi hi hi hi hi hi hi hi hi hi hi hi hi hi hi hi hi hi hi hi hi hi hi hi hi hi hi hi hi hi hi hi hi hi hi hi hi hi hi hi hi hi hi hi hi hi hi hi hi hi hi hi hi hi hi hi hi hi hi hi hi hi hi hi hi hi hi hi hi hi hi hi hi hi hi hi hi hi hi hi hi hi hi hi hi hi hi hi hi hi hi hi hi hi hi hi hi hi hi hi hi hi hi hi hi hi hi hi hi hi hi hi hi hi hi hi hi hi hi hi hi hi hi hi hi hi hi hi hi hi hi hi hi hi hi hi hi hi hi hi hi hi hi hi hi hi hi hi hi hi hi hi hi hi hi hi hi hi hi hi hi hi hi hi hi hi hi hi hi hi hi hi hi hi hi hi hi hi hi hi hi hi hi hi hi hi hi hi hi hi hi hi hi hi hi hi hi hi hi hi hi hi hi hi hi hi hi hi hi hi hi hi hi hi hi hi hi hi hi hi hi hi hi hi hi hi hi hi hi hi hi hi hi hi hi hi hi hi hi hi hi hi hi hi hi hi hi hi hi hi hi hi hi hi hi hi hi hi hi hi hi hi hi hi hi hi hi hi hi hi hi hi hi hi hi hi hi hi hi hi hi hi hi hi hi hi hi hi hi hi hi hi hi hi hi hi hi hi hi hi hi hi hi hi hi hi hi hi hi hi hi hi hi hi hi hi hi hi hi hi hi hi hi hi hi hi hi hi hi hi hi hi hi hi hi hi hi hi hi hi hi hi hi hi hi hi hi hi hi hi hi hi hi hi hi hi hi hi hi hi hi hi hi hi hi hi hi hi hi hi hi hi hi hi hi hi hi hi hi hi hi hi hi hi hi hi hi hi hi hi hi hi hi hi hi hi hi hi hi hi hi hi hi hi hi hi hi hi hi hi hi hi hi hi hi hi hi hi hi hi hi hi hi hi hi hi hi hi hi hi hi hi hi hi hi hi hi hi hi hi hi hi hi hi hi hi hi hi hi hi hi hi hi hi hi hi hi hi hi hi hi hi hi hi hi hi hi hi hi hi hi hi hi hi hi hi hi hi hi hi hi hi hi hi hi hi hi hi hi hi hi hi hi hi hi hi hi hi hi hi hi hi hi hi hi hi hi hi hi hi hi hi hi hi hi hi hi hi hi hi hi hi hi hi hi hi hi hi hi hi hi hi hi hi hi hi hi hi hi hi hi hi hi hi hi hi hi hi hi hi hi hi hi hi hi hi hi hi hi hi hi hi hi hi hi hi hi hi hi hi hi hi hi hi hi hi hi hi hi hi hi hi hi hi hi hi hi hi hi hi hi hi hi hi hi hi hi hi hi hi hi hi hi hi hi hi hi hi hi hi hi hi hi hi hi hi hi hi hi hi hi hi hi hi hi hi hi hi hi hi hi hi hi hi hi hi hi hi hi hi hi hi hi hi hi hi hi hi hi hi hi hi hi hi hi hi hi hi hi hi hi hi hi hi hi hi hi hi hi hi hi hi hi hi hi hi hi hi hi hi hi hi hi hi hi hi hi hi hi hi hi hi hi hi hi hi hi hi hi hi hi hi hi hi hi hi hi hi hi hi hi hi hi hi hi hi hi hi hi hi hi hi hi hi hi hi hi hi hi hi hi hi hi '"
      ]
     },
     "execution_count": 10,
     "metadata": {},
     "output_type": "execute_result"
    }
   ],
   "source": [
    "'hi ' * 1000"
   ]
  },
  {
   "attachments": {},
   "cell_type": "markdown",
   "metadata": {},
   "source": [
    "String formating. f-string"
   ]
  },
  {
   "cell_type": "code",
   "execution_count": 28,
   "metadata": {},
   "outputs": [
    {
     "name": "stdout",
     "output_type": "stream",
     "text": [
      "Auguste Sukackaite, nice to meet you! Your number is 42.\n",
      "Auguste Sukackaite\n",
      "Auguste Sukackaite, nice to meet you! Your number is 42.\n",
      "Auguste Sukackaite, nice to meet you! Your number is 42.\n",
      "Auguste         Sukackaite, nice to meet you! Your number is 42.\n",
      "Auguste Sukackaite\n",
      "Auguste Sukackaite, nice to meet you! Your number is 46.\n"
     ]
    }
   ],
   "source": [
    "name = 'Auguste'\n",
    "surname = 'Sukackaite'\n",
    "number =42\n",
    "\n",
    "#print\n",
    "\n",
    "print( name + ' ' + surname + ', nice to meet you! Your number is ' + str(number) + '.' )\n",
    "\n",
    "#f-string\n",
    "\n",
    "print( f'{name} {surname}')\n",
    "print( f'{name} {surname}, nice to meet you! Your number is {number}.')\n",
    "print( f'{     name} {surname     }, nice to meet you! Your number is {  number}.') #spaces to not affect\n",
    "print( f'{name}         {surname}, nice to meet you! Your number is {number}.') #affect\n",
    "print( f'{name} {surname}')\n",
    "print( f'{name} {surname}, nice to meet you! Your number is {number + 4}.') #add to a number\n",
    "\n",
    "\n"
   ]
  },
  {
   "cell_type": "code",
   "execution_count": 30,
   "metadata": {},
   "outputs": [
    {
     "name": "stdout",
     "output_type": "stream",
     "text": [
      "Auguste Sukackaite\n",
      "Auguste Sukackaite\n"
     ]
    }
   ],
   "source": [
    "vardas = 'Auguste'\n",
    "pavarde = 'Sukackaite'\n",
    "print( vardas + ' ' + pavarde)\n",
    "print(f'{vardas} {pavarde}')\n"
   ]
  },
  {
   "cell_type": "code",
   "execution_count": 37,
   "metadata": {},
   "outputs": [
    {
     "name": "stdout",
     "output_type": "stream",
     "text": [
      "PYTHON MAKES ME REALLY HAPPY! TO\n",
      "PyThOn makes me really happy! To\n",
      "PyThOn makes me really happy! TO\n"
     ]
    }
   ],
   "source": [
    "text_1 = 'Python makes me really happy! To'\n",
    "print( text_1.upper() )\n",
    "print( text_1.replace('Python','PyThOn') )\n",
    "print( text_1.replace('t','T').replace('o','O') )"
   ]
  },
  {
   "cell_type": "code",
   "execution_count": 47,
   "metadata": {},
   "outputs": [
    {
     "name": "stdout",
     "output_type": "stream",
     "text": [
      "18\n",
      "18\n",
      "happy to learn Python!\n",
      "happy\n",
      "happy\n",
      "to\n",
      "40\n"
     ]
    }
   ],
   "source": [
    "text = 'Hello World, I am happy to learn Python!'\n",
    "word_to_find = 'happy'\n",
    "print( text.find(word_to_find) )\n",
    "print( text.index(word_to_find) )\n",
    "print( text [text.index(word_to_find):])\n",
    "print( text [text.index(word_to_find): text.find(word_to_find) + len(word_to_find)]) #input can change,flexible, will adabt\n",
    "print( text [18 : 18 + 5]) #output would not addapt\n",
    "word_to_find = 'to'\n",
    "print( text [text.index(word_to_find): text.find(word_to_find) + len(word_to_find)])\n",
    "print( len(text))\n"
   ]
  },
  {
   "attachments": {},
   "cell_type": "markdown",
   "metadata": {},
   "source": [
    "Integer declartion"
   ]
  },
  {
   "cell_type": "code",
   "execution_count": 49,
   "metadata": {},
   "outputs": [
    {
     "name": "stdout",
     "output_type": "stream",
     "text": [
      "<class 'str'>\n",
      "<class 'int'>\n",
      "<class 'float'>\n",
      "<class 'float'>\n"
     ]
    }
   ],
   "source": [
    "number_symbol = '1'\n",
    "int_1 = 1\n",
    "float_1 = 1.0\n",
    "float_2 = 1.\n",
    "\n",
    "print(type(number_symbol))\n",
    "print(type(int_1))\n",
    "print(type(float_1))\n",
    "print(type(float_2))\n"
   ]
  },
  {
   "attachments": {},
   "cell_type": "markdown",
   "metadata": {},
   "source": [
    "## operations"
   ]
  },
  {
   "cell_type": "code",
   "execution_count": 60,
   "metadata": {},
   "outputs": [
    {
     "name": "stdout",
     "output_type": "stream",
     "text": [
      "15\n",
      "-5\n",
      "50\n",
      "0.5\n",
      "other operations\n",
      "4\n",
      "8\n",
      "32\n",
      "floor division\n",
      "1\n",
      "2\n",
      "modulus division\n",
      "5\n",
      "5\n",
      "0\n",
      "1\n"
     ]
    }
   ],
   "source": [
    "print( 5 + 10)\n",
    "print( 5 - 10)\n",
    "print( 5 * 10)\n",
    "print( 5 / 10)\n",
    "print('other operations')\n",
    "print(2 ** 2)\n",
    "print(2 ** 3) #2 in a power of 3\n",
    "print(2 ** 5) #2 in a power of 5\n",
    "print('floor division')\n",
    "print( 15 // 10) #to get only full numbers\n",
    "print( 25 // 10)\n",
    "print('modulus division')\n",
    "print( 15 % 10)\n",
    "print( 25 % 10)\n",
    "print( 734568 % 3) #to see if can divide by 3\n",
    "print( 734569 % 3)\n"
   ]
  },
  {
   "cell_type": "code",
   "execution_count": 67,
   "metadata": {},
   "outputs": [
    {
     "name": "stdout",
     "output_type": "stream",
     "text": [
      "5.4\n",
      "6.4\n",
      "10\n",
      "5.0\n"
     ]
    }
   ],
   "source": [
    "my_sum = 0\n",
    "my_sum += 5.4\n",
    "print(my_sum)\n",
    "my_sum += 1.0\n",
    "print(my_sum)\n",
    "\n",
    "multiplication = 1\n",
    "multiplication *= 10\n",
    "print(multiplication)\n",
    "multiplication *= 0.5\n",
    "print(multiplication)\n",
    "\n",
    "\n"
   ]
  },
  {
   "cell_type": "code",
   "execution_count": 70,
   "metadata": {},
   "outputs": [
    {
     "name": "stdout",
     "output_type": "stream",
     "text": [
      "15\n",
      "-5\n",
      "0.5\n",
      "50\n",
      "5\n"
     ]
    }
   ],
   "source": [
    "int_1 = 5\n",
    "int_2 = 10\n",
    "print( int_1 + int_2)\n",
    "print( int_1 - int_2)\n",
    "print( int_1 / int_2)\n",
    "print( int_1 * int_2)\n",
    "print( int_1 % int_2)"
   ]
  },
  {
   "cell_type": "code",
   "execution_count": 71,
   "metadata": {},
   "outputs": [
    {
     "name": "stdout",
     "output_type": "stream",
     "text": [
      "16.04\n",
      "-5.039999999999999\n",
      "0.5218216318785579\n",
      "57.97\n",
      "5.5\n"
     ]
    }
   ],
   "source": [
    "float_1 = 5.5\n",
    "float_2 = 10.54\n",
    "print( float_1 + float_2)\n",
    "print( float_1 - float_2)\n",
    "print( float_1 / float_2)\n",
    "print( float_1 * float_2)\n",
    "print( float_1 % float_2)\n"
   ]
  },
  {
   "cell_type": "code",
   "execution_count": 79,
   "metadata": {},
   "outputs": [
    {
     "name": "stdout",
     "output_type": "stream",
     "text": [
      "Distance to the Sun is greater 390 times than distance to the Moon.\n",
      "2560.0\n",
      "106.66666666666667\n",
      "3.5555555555555554\n",
      "0.2962962962962963\n",
      "153600.0\n",
      "9216000.0\n"
     ]
    }
   ],
   "source": [
    "dist_sun = 150_000_000 #for bigger numbers\n",
    "dist_moon = 384_000\n",
    "print( f'Distance to the Sun is greater {dist_sun//dist_moon} times than distance to the Moon.' )\n",
    "\n",
    "speed = 150 #km/h\n",
    "day = speed * 24\n",
    "month = day * 30\n",
    "year = month * 12\n",
    "minutes = speed / 60\n",
    "seconds = minutes / 60\n",
    "\n",
    "print(dist_moon/speed)\n",
    "print(dist_moon/day)\n",
    "print(dist_moon/month)\n",
    "print(dist_moon/year)\n",
    "print(dist_moon/minutes)\n",
    "print(dist_moon/seconds)\n",
    "\n",
    "\n",
    "\n"
   ]
  },
  {
   "cell_type": "code",
   "execution_count": 80,
   "metadata": {},
   "outputs": [
    {
     "data": {
      "text/plain": [
       "10950"
      ]
     },
     "execution_count": 80,
     "metadata": {},
     "output_type": "execute_result"
    }
   ],
   "source": [
    "(2023 - 1993) * 365"
   ]
  },
  {
   "cell_type": "code",
   "execution_count": 86,
   "metadata": {},
   "outputs": [
    {
     "name": "stdout",
     "output_type": "stream",
     "text": [
      "1993-05-23\n",
      "2023-03-05\n",
      "10878\n"
     ]
    }
   ],
   "source": [
    "from datetime import date\n",
    "\n",
    "d0 = date( 1993, 5, 23)\n",
    "d1 = date.today()\n",
    "print(d0)\n",
    "print(d1)\n",
    "delta = d1 - d0\n",
    "print(delta.days)\n"
   ]
  },
  {
   "attachments": {},
   "cell_type": "markdown",
   "metadata": {},
   "source": [
    "## Boolean declaration (true or false)"
   ]
  },
  {
   "cell_type": "code",
   "execution_count": 90,
   "metadata": {},
   "outputs": [
    {
     "name": "stdout",
     "output_type": "stream",
     "text": [
      "True\n",
      "<class 'bool'>\n",
      "False\n",
      "<class 'bool'>\n",
      "1\n",
      "0\n"
     ]
    }
   ],
   "source": [
    "bool_true = True\n",
    "print(bool_true)\n",
    "print(type(bool_true))\n",
    "bool_false = False\n",
    "print(bool_false)\n",
    "print(type(bool_false))\n",
    "print(int(bool_true))\n",
    "print(int(bool_false))\n"
   ]
  },
  {
   "cell_type": "code",
   "execution_count": 93,
   "metadata": {},
   "outputs": [
    {
     "name": "stdout",
     "output_type": "stream",
     "text": [
      "True\n",
      "True\n",
      "True\n",
      "False\n"
     ]
    }
   ],
   "source": [
    "print( bool ( 1 ) )\n",
    "print( bool ( 100000 ) )\n",
    "print( bool ( -0.100000 ) )\n",
    "print( bool ( 0 ) ) #only possible way to get false from number"
   ]
  },
  {
   "cell_type": "code",
   "execution_count": 95,
   "metadata": {},
   "outputs": [
    {
     "name": "stdout",
     "output_type": "stream",
     "text": [
      "True\n",
      "True\n",
      "True\n",
      "False\n"
     ]
    }
   ],
   "source": [
    "print( bool ( 'hello' ) )\n",
    "print( bool ( '45' ) )\n",
    "print( bool ( ' ' ) )\n",
    "print( bool ( '' ) ) #only possible way to get false from string"
   ]
  },
  {
   "cell_type": "code",
   "execution_count": 103,
   "metadata": {},
   "outputs": [
    {
     "name": "stdout",
     "output_type": "stream",
     "text": [
      "True\n",
      "False\n",
      "True\n",
      "False\n",
      "True\n",
      "True\n",
      "False\n",
      "True\n",
      "False\n"
     ]
    }
   ],
   "source": [
    "print ( 5 > 4 )\n",
    "print ( 5 < 4 )\n",
    "print ( 5 >= 5 )\n",
    "print ( 5 >= 6 )\n",
    "print ( 5 <= 6 )\n",
    "print ( 5 == 5) # == is a comparison if equal\n",
    "print ( 5 == 6)\n",
    "print ( 5 != 6) # not equal\n",
    "print ( 5 != 5) # not equal"
   ]
  },
  {
   "attachments": {},
   "cell_type": "markdown",
   "metadata": {},
   "source": [
    "## in"
   ]
  },
  {
   "cell_type": "code",
   "execution_count": 110,
   "metadata": {},
   "outputs": [
    {
     "name": "stdout",
     "output_type": "stream",
     "text": [
      "True\n",
      "False\n",
      "False\n",
      "True\n",
      "True\n"
     ]
    }
   ],
   "source": [
    "text = 'Hello world'\n",
    "bool_1 = 'd' in text\n",
    "print(bool_1)\n",
    "bool_2 = 'D' in text\n",
    "print(bool_2)\n",
    "print( text.islower())\n",
    "print( text.lower().islower())\n",
    "print( 'h' in text.lower())\n"
   ]
  },
  {
   "attachments": {},
   "cell_type": "markdown",
   "metadata": {},
   "source": [
    "## not"
   ]
  },
  {
   "cell_type": "code",
   "execution_count": 111,
   "metadata": {},
   "outputs": [
    {
     "name": "stdout",
     "output_type": "stream",
     "text": [
      "False\n",
      "True\n",
      "False\n"
     ]
    }
   ],
   "source": [
    "print( not True)\n",
    "print( not False)\n",
    "print( not not False)"
   ]
  },
  {
   "attachments": {},
   "cell_type": "markdown",
   "metadata": {},
   "source": [
    "## and, or"
   ]
  },
  {
   "cell_type": "code",
   "execution_count": 114,
   "metadata": {},
   "outputs": [
    {
     "name": "stdout",
     "output_type": "stream",
     "text": [
      "True\n",
      "False\n",
      "True\n"
     ]
    }
   ],
   "source": [
    "a = 2\n",
    "b = 5\n",
    "c = -10\n",
    "\n",
    "print (a < b and b > c)\n",
    "print (a < b and b < c)\n",
    "print (a < b or b > c)"
   ]
  },
  {
   "cell_type": "code",
   "execution_count": 115,
   "metadata": {},
   "outputs": [
    {
     "name": "stdout",
     "output_type": "stream",
     "text": [
      "True\n"
     ]
    }
   ],
   "source": [
    "print (a < b and b > c or  1 > 5)"
   ]
  },
  {
   "cell_type": "code",
   "execution_count": 120,
   "metadata": {},
   "outputs": [
    {
     "name": "stdout",
     "output_type": "stream",
     "text": [
      "True\n",
      "True\n",
      "True\n",
      "True\n",
      "True\n",
      "\n",
      "False\n",
      "False\n",
      "False\n",
      "False\n",
      "False\n"
     ]
    }
   ],
   "source": [
    "print (10 > 5)\n",
    "print ( 'a' in 'auto')\n",
    "test = bool(1)\n",
    "print(test)\n",
    "print(bool('oo'))\n",
    "print( not False)\n",
    "print('')\n",
    "print (10 < 5)\n",
    "print ( 'f' in 'auto')\n",
    "test = bool(0)\n",
    "print(test)\n",
    "print(bool(''))\n",
    "print( not True)"
   ]
  },
  {
   "cell_type": "code",
   "execution_count": 121,
   "metadata": {},
   "outputs": [
    {
     "name": "stdout",
     "output_type": "stream",
     "text": [
      "False\n",
      "False\n"
     ]
    }
   ],
   "source": [
    "print(bool(0))\n",
    "print(bool(''))"
   ]
  },
  {
   "attachments": {},
   "cell_type": "markdown",
   "metadata": {},
   "source": [
    "## List"
   ]
  },
  {
   "cell_type": "code",
   "execution_count": 127,
   "metadata": {},
   "outputs": [
    {
     "name": "stdout",
     "output_type": "stream",
     "text": [
      "['Vilnius', 'Kaunas', 'London']\n",
      "<class 'list'>\n",
      "Vilnius\n",
      "<class 'str'>\n",
      "['Kaunas', 'London']\n",
      "['Vilnius', 'Kaunas']\n"
     ]
    }
   ],
   "source": [
    "cities = ['Vilnius', 'Kaunas', 'London']\n",
    "print(cities)\n",
    "print( type(cities))\n",
    "print(cities[0] )\n",
    "print( type(cities[0]))\n",
    "print(cities[1:] )\n",
    "print(cities[:2] )"
   ]
  },
  {
   "cell_type": "code",
   "execution_count": 130,
   "metadata": {},
   "outputs": [
    {
     "name": "stdout",
     "output_type": "stream",
     "text": [
      "7\n",
      "<class 'int'>\n",
      "<class 'bool'>\n",
      "<class 'str'>\n"
     ]
    }
   ],
   "source": [
    "numbers = [ 1,654,7,6987,7,'87', False ] # try not to mix types\n",
    "print(len(numbers))\n",
    "print(type(numbers[0]))\n",
    "print(type(numbers[-1]))\n",
    "print(type(numbers[-2]))\n"
   ]
  },
  {
   "cell_type": "code",
   "execution_count": 135,
   "metadata": {},
   "outputs": [
    {
     "name": "stdout",
     "output_type": "stream",
     "text": [
      "[14, 786, 7]\n",
      "[14, 786, 7, 500]\n",
      "[14, 786, 7, 500, 999]\n",
      "999\n",
      "[14, 786, 7, 500]\n"
     ]
    }
   ],
   "source": [
    "numbers = [14,786,7]\n",
    "print(numbers)\n",
    "numbers.append( 500 )\n",
    "print(numbers)\n",
    "numbers.append (999)\n",
    "print(numbers)\n",
    "print(numbers.pop ())\n",
    "print(numbers)"
   ]
  }
 ],
 "metadata": {
  "kernelspec": {
   "display_name": "Python 3",
   "language": "python",
   "name": "python3"
  },
  "language_info": {
   "codemirror_mode": {
    "name": "ipython",
    "version": 3
   },
   "file_extension": ".py",
   "mimetype": "text/x-python",
   "name": "python",
   "nbconvert_exporter": "python",
   "pygments_lexer": "ipython3",
   "version": "3.11.2"
  },
  "orig_nbformat": 4
 },
 "nbformat": 4,
 "nbformat_minor": 2
}
