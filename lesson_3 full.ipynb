{
 "cells": [
  {
   "attachments": {},
   "cell_type": "markdown",
   "metadata": {},
   "source": [
    "## List"
   ]
  },
  {
   "attachments": {},
   "cell_type": "markdown",
   "metadata": {},
   "source": [
    "## append vs extend"
   ]
  },
  {
   "cell_type": "code",
   "execution_count": 4,
   "metadata": {},
   "outputs": [
    {
     "name": "stdout",
     "output_type": "stream",
     "text": [
      "[14, 786, 7]\n",
      "[14, 786, 7, 500]\n",
      "[14, 786, 7, 500, 999]\n",
      "[14, 786, 7, 500, 999, [100, 100]]\n",
      "[100, 100]\n",
      "extend\n",
      "[14, 786, 7, 500, 999, [100, 100], 500]\n",
      "[14, 786, 7, 500, 999, [100, 100], 500, 999, 888, 777]\n"
     ]
    }
   ],
   "source": [
    "numbers = [14,786,7]\n",
    "print(numbers)\n",
    "numbers.append( 500 )\n",
    "print(numbers)\n",
    "numbers.append (999)\n",
    "print(numbers)\n",
    "numbers.append ( [100, 100] )\n",
    "print(numbers)\n",
    "print(numbers[-1])\n",
    "\n",
    "print('extend')\n",
    "numbers.extend([500])\n",
    "print( numbers )\n",
    "numbers.extend([999,888,777])\n",
    "print( numbers )"
   ]
  },
  {
   "cell_type": "code",
   "execution_count": 5,
   "metadata": {},
   "outputs": [
    {
     "name": "stdout",
     "output_type": "stream",
     "text": [
      "8\n",
      "888\n"
     ]
    }
   ],
   "source": [
    "print (numbers.index(888))\n",
    "print (numbers[8])"
   ]
  },
  {
   "cell_type": "code",
   "execution_count": 6,
   "metadata": {},
   "outputs": [
    {
     "name": "stdout",
     "output_type": "stream",
     "text": [
      "[14, 1000, 786, 7, 500, 999, [100, 100], 500, 999, 888, 777]\n"
     ]
    }
   ],
   "source": [
    "numbers.insert(1, 1000)\n",
    "print(numbers)"
   ]
  },
  {
   "cell_type": "code",
   "execution_count": 7,
   "metadata": {},
   "outputs": [
    {
     "ename": "TypeError",
     "evalue": "'<' not supported between instances of 'list' and 'int'",
     "output_type": "error",
     "traceback": [
      "\u001b[0;31m---------------------------------------------------------------------------\u001b[0m",
      "\u001b[0;31mTypeError\u001b[0m                                 Traceback (most recent call last)",
      "Cell \u001b[0;32mIn[7], line 1\u001b[0m\n\u001b[0;32m----> 1\u001b[0m numbers\u001b[39m.\u001b[39;49msort(reverse\u001b[39m=\u001b[39;49m\u001b[39mTrue\u001b[39;49;00m) \u001b[39m#permanent\u001b[39;00m\n\u001b[1;32m      2\u001b[0m \u001b[39mprint\u001b[39m(numbers)\n",
      "\u001b[0;31mTypeError\u001b[0m: '<' not supported between instances of 'list' and 'int'"
     ]
    }
   ],
   "source": [
    "numbers.sort(reverse=True) #permanent\n",
    "print(numbers)"
   ]
  },
  {
   "cell_type": "code",
   "execution_count": null,
   "metadata": {},
   "outputs": [
    {
     "name": "stdout",
     "output_type": "stream",
     "text": [
      "[2, 4, 562, 778]\n",
      "[562, 4, 778, 2]\n"
     ]
    }
   ],
   "source": [
    "nums = [ 562,4,778,2]\n",
    "print(sorted(nums))\n",
    "print (nums) #reverse back"
   ]
  },
  {
   "cell_type": "code",
   "execution_count": null,
   "metadata": {},
   "outputs": [
    {
     "name": "stdout",
     "output_type": "stream",
     "text": [
      "[654, [[[48, [['65']]], 57]]]\n",
      "2\n",
      "[[[48, [['65']]], 57]]\n",
      "1\n",
      "[[48, [['65']]], 57]\n",
      "2\n",
      "[48, [['65']]]\n",
      "[['65']]\n",
      "65\n"
     ]
    }
   ],
   "source": [
    "nested_list = [654, [[[48, [['65']]], 57]]]\n",
    "print(nested_list)\n",
    "print(len(nested_list))\n",
    "print(nested_list[1]) #index 1 is 2nd one , index 0 is 1st one\n",
    "print(len(nested_list[1]))\n",
    "print(nested_list[1][0])\n",
    "print( len(nested_list[1][0]) )\n",
    "print( nested_list[1][0][0] )\n",
    "print(nested_list[1][0][0][1])\n",
    "print(nested_list[1][0][0][1][0][0])"
   ]
  },
  {
   "cell_type": "code",
   "execution_count": null,
   "metadata": {},
   "outputs": [
    {
     "name": "stdout",
     "output_type": "stream",
     "text": [
      "[1000, 999, 999, 888, 786, 777, 500, 500, 14, 7]\n",
      "[1000, 999, 786, 500, 14]\n",
      "[1000, 888, 500, 7]\n"
     ]
    }
   ],
   "source": [
    "print(numbers)\n",
    "print(numbers[::2]) #from the begin to end every 2nd value\n",
    "print(numbers[::3])"
   ]
  },
  {
   "cell_type": "code",
   "execution_count": null,
   "metadata": {},
   "outputs": [
    {
     "name": "stdout",
     "output_type": "stream",
     "text": [
      "True\n",
      "False\n",
      "True\n"
     ]
    }
   ],
   "source": [
    "print(14 in numbers)\n",
    "print (bool())\n",
    "print (bool('a'))\n"
   ]
  },
  {
   "attachments": {},
   "cell_type": "markdown",
   "metadata": {},
   "source": [
    "# operators with list"
   ]
  },
  {
   "cell_type": "code",
   "execution_count": null,
   "metadata": {},
   "outputs": [
    {
     "name": "stdout",
     "output_type": "stream",
     "text": [
      "[1, 2, 3, 4, 5, 6]\n",
      "[1, 2, 3, 1, 2, 3, 1, 2, 3, 1, 2, 3, 1, 2, 3, 1, 2, 3, 1, 2, 3, 1, 2, 3, 1, 2, 3, 1, 2, 3]\n"
     ]
    }
   ],
   "source": [
    "print( [1,2,3] + [4,5,6])\n",
    "print( [1,2,3] * 10)"
   ]
  },
  {
   "cell_type": "code",
   "execution_count": null,
   "metadata": {},
   "outputs": [
    {
     "name": "stdout",
     "output_type": "stream",
     "text": [
      "3\n",
      "[1, 2, 3, 4]\n"
     ]
    },
    {
     "data": {
      "text/plain": [
       "False"
      ]
     },
     "execution_count": 44,
     "metadata": {},
     "output_type": "execute_result"
    }
   ],
   "source": [
    "my_list = [1,2,3]\n",
    "print(len(my_list))\n",
    "my_list.append(4)\n",
    "print(my_list)\n",
    "5 in my_list\n"
   ]
  },
  {
   "cell_type": "code",
   "execution_count": null,
   "metadata": {},
   "outputs": [
    {
     "name": "stdout",
     "output_type": "stream",
     "text": [
      "[456, 1, 1, 8, 411, 33, 274]\n",
      "[456, 1, 1, 8, 411, 33]\n",
      "[1, 1, 8, 33, 411, 456]\n",
      "2\n"
     ]
    }
   ],
   "source": [
    "combined = [456,1,1,8] + [411,33,274]\n",
    "print(combined)\n",
    "combined.pop()\n",
    "print(combined)\n",
    "combined.sort()\n",
    "print(combined)\n",
    "print(combined.count(1))\n"
   ]
  },
  {
   "attachments": {},
   "cell_type": "markdown",
   "metadata": {},
   "source": [
    "## mutable and immutable"
   ]
  },
  {
   "cell_type": "code",
   "execution_count": null,
   "metadata": {},
   "outputs": [
    {
     "name": "stdout",
     "output_type": "stream",
     "text": [
      "before\n",
      "4534381656\n",
      "4534381656\n",
      "after\n",
      "4534381656\n",
      "4534381816\n",
      "1\n",
      "6\n"
     ]
    }
   ],
   "source": [
    "a = 1\n",
    "b = a\n",
    "print('before')\n",
    "print(id(a))\n",
    "print(id(b))\n",
    "b +=5\n",
    "print('after')\n",
    "print(id(a))\n",
    "print(id(b))\n",
    "print(a)\n",
    "print(b) #mutable\n"
   ]
  },
  {
   "cell_type": "code",
   "execution_count": null,
   "metadata": {},
   "outputs": [
    {
     "name": "stdout",
     "output_type": "stream",
     "text": [
      "before\n",
      "4578805952\n",
      "4578805952\n",
      "after\n",
      "4578805952\n",
      "4578805952\n",
      "[1, 2, 3, 999]\n",
      "[1, 2, 3, 999]\n"
     ]
    }
   ],
   "source": [
    "a = [1,2,3]\n",
    "b = a\n",
    "print('before')\n",
    "print(id(a))\n",
    "print(id(b))\n",
    "b.append ( 999 )\n",
    "print('after')\n",
    "print(id(a))\n",
    "print(id(b))\n",
    "print(a)\n",
    "print(b) #immutable\n"
   ]
  },
  {
   "cell_type": "code",
   "execution_count": null,
   "metadata": {},
   "outputs": [
    {
     "name": "stdout",
     "output_type": "stream",
     "text": [
      "before\n",
      "4573574720\n",
      "4578794880\n",
      "after\n",
      "4573574720\n",
      "4578794880\n",
      "[1, 2, 3]\n",
      "[1, 2, 3, 999]\n"
     ]
    }
   ],
   "source": [
    "# fixing mutable variable #1\n",
    "a = [1,2,3]\n",
    "b = a.copy() #makes a shallow copy\n",
    "print('before')\n",
    "print(id(a))\n",
    "print(id(b))\n",
    "b.append ( 999 )\n",
    "print('after')\n",
    "print(id(a))\n",
    "print(id(b))\n",
    "print(a)\n",
    "print(b)\n"
   ]
  },
  {
   "cell_type": "code",
   "execution_count": null,
   "metadata": {},
   "outputs": [
    {
     "name": "stdout",
     "output_type": "stream",
     "text": [
      "before\n",
      "4578793344\n",
      "4573574720\n",
      "after\n",
      "4578793344\n",
      "4573574720\n",
      "[1, 2, ['a', 'b', 999]]\n",
      "[1, 2, ['a', 'b', 999], 999]\n"
     ]
    }
   ],
   "source": [
    "# where #1 does not work\n",
    "a = [1,2,['a','b']]\n",
    "b = a.copy() #makes a shallow copy\n",
    "print('before')\n",
    "print(id(a))\n",
    "print(id(b))\n",
    "b [-1].append ( 999 )\n",
    "b.append( 999 )\n",
    "print('after')\n",
    "print(id(a))\n",
    "print(id(b))\n",
    "print(a)\n",
    "print(b)"
   ]
  },
  {
   "attachments": {},
   "cell_type": "markdown",
   "metadata": {},
   "source": [
    "#fixing mutable variable #2"
   ]
  },
  {
   "cell_type": "code",
   "execution_count": null,
   "metadata": {},
   "outputs": [
    {
     "name": "stdout",
     "output_type": "stream",
     "text": [
      "before\n",
      "4500321728\n",
      "4500315968\n",
      "after\n",
      "4500321728\n",
      "4500315968\n",
      "[1, 2, ['a', 'b']]\n",
      "[1, 2, ['a', 'b', 999], 999]\n"
     ]
    }
   ],
   "source": [
    "import copy\n",
    "a = [1,2, ['a','b'] ]\n",
    "b = copy.deepcopy(a)\n",
    "print('before')\n",
    "print(id(a) )\n",
    "print(id(b) )\n",
    "b [-1].append ( 999 )\n",
    "b.append( 999 )\n",
    "print('after')\n",
    "print(id(a))\n",
    "print(id(b))\n",
    "print(a)\n",
    "print(b)\n",
    "\n"
   ]
  },
  {
   "attachments": {},
   "cell_type": "markdown",
   "metadata": {},
   "source": [
    "## Tuple"
   ]
  },
  {
   "cell_type": "code",
   "execution_count": 8,
   "metadata": {},
   "outputs": [
    {
     "name": "stdout",
     "output_type": "stream",
     "text": [
      "<class 'tuple'>\n",
      "(1, 2, True, 'a')\n"
     ]
    }
   ],
   "source": [
    "my_tuple = (1,2, True, 'a')\n",
    "print(type(my_tuple))\n",
    "print(my_tuple)"
   ]
  },
  {
   "cell_type": "code",
   "execution_count": 9,
   "metadata": {},
   "outputs": [
    {
     "name": "stdout",
     "output_type": "stream",
     "text": [
      "1\n",
      "a\n",
      "(2, True)\n"
     ]
    }
   ],
   "source": [
    "print(my_tuple[0])\n",
    "print(my_tuple[-1])\n",
    "print(my_tuple[1:3])"
   ]
  },
  {
   "cell_type": "code",
   "execution_count": 10,
   "metadata": {},
   "outputs": [
    {
     "name": "stdout",
     "output_type": "stream",
     "text": [
      "[1, 2]\n",
      "[100, 2]\n"
     ]
    }
   ],
   "source": [
    "my_list_2 = [1,2]\n",
    "print(my_list_2)\n",
    "my_list_2[0] = 100\n",
    "print(my_list_2)\n",
    "\n",
    "#can overwrite in list but not in tuple"
   ]
  },
  {
   "cell_type": "code",
   "execution_count": 12,
   "metadata": {},
   "outputs": [
    {
     "data": {
      "text/plain": [
       "(1, 2, True, 'a', 5, 55)"
      ]
     },
     "execution_count": 12,
     "metadata": {},
     "output_type": "execute_result"
    }
   ],
   "source": [
    "my_tuple + (5, 55)\n"
   ]
  },
  {
   "cell_type": "code",
   "execution_count": 13,
   "metadata": {},
   "outputs": [
    {
     "data": {
      "text/plain": [
       "(1, 2, True, 'a', 1, 2, True, 'a', 1, 2, True, 'a')"
      ]
     },
     "execution_count": 13,
     "metadata": {},
     "output_type": "execute_result"
    }
   ],
   "source": [
    "my_tuple * 3"
   ]
  },
  {
   "cell_type": "code",
   "execution_count": 17,
   "metadata": {},
   "outputs": [
    {
     "name": "stdout",
     "output_type": "stream",
     "text": [
      "(1, 2, True, 'a')\n",
      "1\n",
      "3\n"
     ]
    }
   ],
   "source": [
    "print(my_tuple)\n",
    "print(my_tuple.count(2))\n",
    "print( my_tuple.index('a') )\n"
   ]
  },
  {
   "cell_type": "code",
   "execution_count": 18,
   "metadata": {},
   "outputs": [
    {
     "name": "stdout",
     "output_type": "stream",
     "text": [
      "4\n",
      "True\n",
      "False\n"
     ]
    }
   ],
   "source": [
    "print( len(my_tuple) )\n",
    "print( 2 in my_tuple)\n",
    "print( 100 in my_tuple)"
   ]
  },
  {
   "cell_type": "code",
   "execution_count": 23,
   "metadata": {},
   "outputs": [
    {
     "name": "stdout",
     "output_type": "stream",
     "text": [
      "8\n",
      "8\n"
     ]
    }
   ],
   "source": [
    "my_tuple = (1,2, ['3', 4, 5], [6, [7, (8)]])\n",
    "\n",
    "print(my_tuple[-1][-1][-1])\n",
    "#or\n",
    "print(my_tuple[3][1][1])\n"
   ]
  },
  {
   "cell_type": "code",
   "execution_count": 31,
   "metadata": {},
   "outputs": [
    {
     "name": "stdout",
     "output_type": "stream",
     "text": [
      "[11, [222, 33], 44, 55]\n",
      "[11, [222, 22], 44, 55]\n",
      "(11, [222, 22], 44, 55)\n"
     ]
    }
   ],
   "source": [
    "#solution1\n",
    "tuple1 = (11, [222, 33], 44, 55)\n",
    "\n",
    "tmp_list = list(tuple1)\n",
    "print(tmp_list)\n",
    "tmp_list[1][1] = 22\n",
    "print(tmp_list)\n",
    "tuple1 = tuple(tmp_list)\n",
    "print( tuple1)"
   ]
  },
  {
   "cell_type": "code",
   "execution_count": 34,
   "metadata": {},
   "outputs": [
    {
     "name": "stdout",
     "output_type": "stream",
     "text": [
      "(11, [222, 22], 44, 55)\n"
     ]
    }
   ],
   "source": [
    "#solution2 (works because there is a list inside tuple)\n",
    "\n",
    "tuple1 = (11, [222, 33], 44, 55)\n",
    "tuple1 [1][1] = 22\n",
    "print(tuple1)"
   ]
  },
  {
   "cell_type": "code",
   "execution_count": 49,
   "metadata": {},
   "outputs": [
    {
     "name": "stdout",
     "output_type": "stream",
     "text": [
      "(1, 2, 3, 8, 5, 5, 5, 10)\n",
      "[1, 2, 3, 8, 5, 5, 5, 10]\n",
      "[1, 2, 3, 8, 5, 5, 5]\n",
      "(1, 2, 3, 8, 5, 5, 5)\n",
      "[1, 2, 3, 5, 5, 5, 8]\n",
      "3\n",
      "8\n",
      "8\n"
     ]
    }
   ],
   "source": [
    "combined_tuple = (1,2,3) + (8,5,5,5,10)\n",
    "print(combined_tuple)\n",
    "\n",
    "tmp_list = list(combined_tuple)\n",
    "print(tmp_list)\n",
    "tmp_list.pop(-1)\n",
    "print(tmp_list)\n",
    "combined_tuple = tuple(tmp_list)\n",
    "print(combined_tuple)\n",
    "print( sorted(combined_tuple))\n",
    "print( combined_tuple.count(5))\n",
    "#option 1 for largest value\n",
    "print( sorted(combined_tuple)[-1])\n",
    "#option 2 for largest value\n",
    "print( max( combined_tuple ))\n",
    "\n",
    "\n"
   ]
  },
  {
   "attachments": {},
   "cell_type": "markdown",
   "metadata": {},
   "source": [
    "## Range declaration"
   ]
  },
  {
   "cell_type": "code",
   "execution_count": 53,
   "metadata": {},
   "outputs": [
    {
     "name": "stdout",
     "output_type": "stream",
     "text": [
      "range(0, 10)\n",
      "<class 'range'>\n",
      "[0, 1, 2, 3, 4, 5, 6, 7, 8, 9]\n",
      "[-4, -3, -2, -1, 0, 1, 2, 3, 4, 5, 6, 7, 8, 9]\n",
      "[-4, -1, 2, 5, 8]\n"
     ]
    }
   ],
   "source": [
    "print( range(10))\n",
    "print( type( range(10) ) )\n",
    "print( list(range(10) ) ) #does not include the end number\n",
    "print( list(range(-4,10) ) )\n",
    "print( list(range(-4,10,3) ) )\n",
    " "
   ]
  },
  {
   "attachments": {},
   "cell_type": "markdown",
   "metadata": {},
   "source": [
    "## For loop"
   ]
  },
  {
   "cell_type": "code",
   "execution_count": 58,
   "metadata": {},
   "outputs": [
    {
     "name": "stdout",
     "output_type": "stream",
     "text": [
      "['Vilnius', 'Kaunas', 'London', 'Berlin']\n",
      "hello\n",
      "Vilnius\n",
      "hello\n",
      "Kaunas\n",
      "hello\n",
      "London\n",
      "hello\n",
      "Berlin\n"
     ]
    }
   ],
   "source": [
    "cities = ['Vilnius','Kaunas','London','Berlin']\n",
    "print( cities )\n",
    "\n",
    "# for <variable name> in <sequence>:\n",
    "for city in cities:\n",
    "    print('hello')\n",
    "    print( city )"
   ]
  },
  {
   "cell_type": "code",
   "execution_count": 63,
   "metadata": {},
   "outputs": [
    {
     "name": "stdout",
     "output_type": "stream",
     "text": [
      "hello\n",
      "Berlin\n",
      "end for loop iteration\n",
      "hello\n",
      "Berlin\n",
      "end for loop iteration\n",
      "hello\n",
      "Berlin\n",
      "end for loop iteration\n",
      "hello\n",
      "Berlin\n",
      "end for loop iteration\n",
      "end of cell\n"
     ]
    }
   ],
   "source": [
    "for x in cities:\n",
    "    print('hello')\n",
    "    print( city )\n",
    "    print('end for loop iteration')\n",
    "\n",
    "print('end of cell')"
   ]
  },
  {
   "cell_type": "code",
   "execution_count": 69,
   "metadata": {},
   "outputs": [
    {
     "name": "stdout",
     "output_type": "stream",
     "text": [
      "Vilnius is a beautiful city!\n",
      "Kaunas is a beautiful city!\n",
      "London is a beautiful city!\n",
      "Berlin is a beautiful city!\n",
      "End of loop\n"
     ]
    }
   ],
   "source": [
    "for city in cities:\n",
    "    print(f'{city} is a beautiful city!')\n",
    "\n",
    "print('End of loop')"
   ]
  },
  {
   "cell_type": "code",
   "execution_count": 71,
   "metadata": {},
   "outputs": [
    {
     "name": "stdout",
     "output_type": "stream",
     "text": [
      "3^2 = 9\n",
      "7^2 = 49\n",
      "11^2 = 121\n",
      "15^2 = 225\n",
      "19^2 = 361\n",
      "23^2 = 529\n",
      "27^2 = 729\n",
      "31^2 = 961\n",
      "35^2 = 1225\n",
      "39^2 = 1521\n",
      "43^2 = 1849\n",
      "47^2 = 2209\n",
      "51^2 = 2601\n"
     ]
    }
   ],
   "source": [
    "for number in range(3,53,4):\n",
    "    print(f'{number}^2 = {number**2}')"
   ]
  },
  {
   "cell_type": "code",
   "execution_count": 1,
   "metadata": {},
   "outputs": [
    {
     "name": "stdout",
     "output_type": "stream",
     "text": [
      "5\n",
      "6\n",
      "7\n",
      "5\n",
      "8\n",
      "9\n",
      "10\n",
      "end\n"
     ]
    }
   ],
   "source": [
    "numbers = [5,6,7,5,8,9,10]\n",
    "# i or idx\n",
    "for i in range( len(numbers) ):\n",
    "    print( numbers[i])\n",
    "\n",
    "print('end')"
   ]
  }
 ],
 "metadata": {
  "kernelspec": {
   "display_name": "Python 3",
   "language": "python",
   "name": "python3"
  },
  "language_info": {
   "codemirror_mode": {
    "name": "ipython",
    "version": 3
   },
   "file_extension": ".py",
   "mimetype": "text/x-python",
   "name": "python",
   "nbconvert_exporter": "python",
   "pygments_lexer": "ipython3",
   "version": "3.11.2"
  },
  "orig_nbformat": 4
 },
 "nbformat": 4,
 "nbformat_minor": 2
}
