{
 "cells": [
  {
   "cell_type": "code",
   "execution_count": 11,
   "metadata": {},
   "outputs": [
    {
     "name": "stdout",
     "output_type": "stream",
     "text": [
      "hello\n"
     ]
    }
   ],
   "source": [
    "print('hello')"
   ]
  },
  {
   "cell_type": "code",
   "execution_count": 12,
   "metadata": {},
   "outputs": [
    {
     "name": "stdout",
     "output_type": "stream",
     "text": [
      "new cell\n"
     ]
    }
   ],
   "source": [
    "print('new cell')"
   ]
  },
  {
   "cell_type": "code",
   "execution_count": 13,
   "metadata": {},
   "outputs": [],
   "source": [
    "x = 5"
   ]
  },
  {
   "cell_type": "code",
   "execution_count": 14,
   "metadata": {},
   "outputs": [
    {
     "name": "stdout",
     "output_type": "stream",
     "text": [
      "5\n"
     ]
    }
   ],
   "source": [
    "print(x)"
   ]
  },
  {
   "cell_type": "code",
   "execution_count": 15,
   "metadata": {},
   "outputs": [
    {
     "name": "stdout",
     "output_type": "stream",
     "text": [
      "7\n",
      "7\n"
     ]
    }
   ],
   "source": [
    "variable_name = 5\n",
    "\n",
    "number_1 = 1\n",
    "\n",
    "CONSTANT_VALUE = 7\n",
    "#should not be changed or updated, don't overwrite constant value\n",
    "\n",
    "print(CONSTANT_VALUE)\n",
    "print(CONSTANT_VALUE)\n"
   ]
  },
  {
   "cell_type": "code",
   "execution_count": 16,
   "metadata": {},
   "outputs": [],
   "source": [
    "import this"
   ]
  },
  {
   "attachments": {},
   "cell_type": "markdown",
   "metadata": {},
   "source": [
    "Strings"
   ]
  },
  {
   "cell_type": "code",
   "execution_count": 29,
   "metadata": {},
   "outputs": [
    {
     "name": "stdout",
     "output_type": "stream",
     "text": [
      "Auguste\n",
      "A\n",
      "u\n",
      "g\n",
      "e\n",
      "t\n",
      "A\n",
      "7\n",
      "19\n"
     ]
    }
   ],
   "source": [
    "name = 'Auguste'\n",
    "print(name)\n",
    "print(name[0])\n",
    "print(name[1])\n",
    "print(name[2])\n",
    "print(name[-1]) #first from the end\n",
    "print(name[-2])\n",
    "print ( 'Auguste' [0] )\n",
    "print (len (name) ) #lenght of string\n",
    "print (len ('Auguste            ') ) #spaces also count"
   ]
  },
  {
   "attachments": {},
   "cell_type": "markdown",
   "metadata": {},
   "source": [
    "Slicing\n"
   ]
  },
  {
   "cell_type": "code",
   "execution_count": 36,
   "metadata": {},
   "outputs": [
    {
     "name": "stdout",
     "output_type": "stream",
     "text": [
      "H\n",
      "llo world\n",
      "llo\n",
      "Hello\n",
      "Hello\n"
     ]
    }
   ],
   "source": [
    "text = 'Hello world'\n",
    "print ( text [0] )\n",
    "print ( text [2:] ) #takes everything from 3rd letter\n",
    "print ( text [2:5] ) #takes everything from 3rd letter up to 6th (not included)\n",
    "print ( text [:5] ) #takes first 5 letters from the beginning \n",
    "print ( text [0:5] ) #same as previous"
   ]
  },
  {
   "attachments": {},
   "cell_type": "markdown",
   "metadata": {},
   "source": [
    "Slicing with step"
   ]
  },
  {
   "cell_type": "code",
   "execution_count": 41,
   "metadata": {},
   "outputs": [
    {
     "name": "stdout",
     "output_type": "stream",
     "text": [
      "Hello world\n",
      "ello wor\n",
      "el o\n",
      "eoo\n"
     ]
    }
   ],
   "source": [
    "#slicing with step: variable_name[start:end:step]\n",
    "print(text)\n",
    "print(text[1:9])\n",
    "print(text[1:9:2]) #take every 2nd\n",
    "print(text[1:9:3]) #take every 3rd"
   ]
  },
  {
   "cell_type": "code",
   "execution_count": 48,
   "metadata": {},
   "outputs": [
    {
     "name": "stdout",
     "output_type": "stream",
     "text": [
      "I can't go today\n",
      "I can't go today\n",
      "I can't go today\n"
     ]
    }
   ],
   "source": [
    "text = \"I can't go today\" #double comma as it is sentence\n",
    "## or\n",
    "text_2 = 'I can\\'t go today'\n",
    "## or\n",
    "text_2 = \"I can't go today\"\n",
    "## or\n",
    "text_3 = '''I can't go today'''\n",
    "\n",
    "print(text)\n",
    "print(text_2)\n",
    "print(text_3)"
   ]
  },
  {
   "cell_type": "code",
   "execution_count": 52,
   "metadata": {},
   "outputs": [
    {
     "name": "stdout",
     "output_type": "stream",
     "text": [
      "\n",
      "    line one\n",
      "    line two\n",
      "no spacing\n",
      "\n",
      "    line one\n",
      "    line two\n",
      "no spacing\n"
     ]
    }
   ],
   "source": [
    "text_4 = '''\n",
    "    line one\n",
    "    line two\n",
    "no spacing'''\n",
    "\n",
    "print( text_4 )\n",
    "\n",
    "text_5 = \"\"\"\n",
    "    line one\n",
    "    line two\n",
    "no spacing\"\"\"\n",
    "\n",
    "print( text_5 )"
   ]
  },
  {
   "cell_type": "code",
   "execution_count": 53,
   "metadata": {},
   "outputs": [],
   "source": [
    "number = 5\n",
    "number_symbol = '5'\n",
    "# cannot add these, they are not the same"
   ]
  },
  {
   "cell_type": "code",
   "execution_count": 54,
   "metadata": {},
   "outputs": [
    {
     "name": "stdout",
     "output_type": "stream",
     "text": [
      "I can't go today\n"
     ]
    }
   ],
   "source": [
    "print ( text )"
   ]
  },
  {
   "cell_type": "code",
   "execution_count": 66,
   "metadata": {},
   "outputs": [
    {
     "name": "stdout",
     "output_type": "stream",
     "text": [
      "Title\n",
      "I CAN'T GO TODAY\n",
      "I Can'T Go Today\n",
      "i can't go today\n",
      "2\n",
      "I can't go tomorrow\n",
      "I CAAn't go today\n",
      "8\n",
      "go\n",
      "go today\n"
     ]
    }
   ],
   "source": [
    "print ( 'title'.capitalize() )\n",
    "print (text.upper())\n",
    "print (text.title())\n",
    "print (text.lower())\n",
    "print (text.count('a') ) #how many A's we have\n",
    "print (text.replace('today','tomorrow'))\n",
    "print (text.replace('ca','CAA'))\n",
    "print (text.find('go'))\n",
    "print (text[8:10])\n",
    "print (text[text.find('go'):]) #finds 'go' and gives the rest"
   ]
  },
  {
   "cell_type": "code",
   "execution_count": 67,
   "metadata": {},
   "outputs": [
    {
     "name": "stdout",
     "output_type": "stream",
     "text": [
      "go today to the cinema\n"
     ]
    }
   ],
   "source": [
    "text_2 = \"I can't go today to the cinema\"\n",
    "print (text_2[text_2.find('go'):])"
   ]
  },
  {
   "cell_type": "code",
   "execution_count": 68,
   "metadata": {},
   "outputs": [
    {
     "data": {
      "text/plain": [
       "-1"
      ]
     },
     "execution_count": 68,
     "metadata": {},
     "output_type": "execute_result"
    }
   ],
   "source": [
    "text_2.find('GO')"
   ]
  }
 ],
 "metadata": {
  "kernelspec": {
   "display_name": "Python 3",
   "language": "python",
   "name": "python3"
  },
  "language_info": {
   "codemirror_mode": {
    "name": "ipython",
    "version": 3
   },
   "file_extension": ".py",
   "mimetype": "text/x-python",
   "name": "python",
   "nbconvert_exporter": "python",
   "pygments_lexer": "ipython3",
   "version": "3.11.2"
  },
  "orig_nbformat": 4
 },
 "nbformat": 4,
 "nbformat_minor": 2
}
