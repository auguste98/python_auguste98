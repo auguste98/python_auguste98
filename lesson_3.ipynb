{
 "cells": [
  {
   "attachments": {},
   "cell_type": "markdown",
   "metadata": {},
   "source": [
    "## List"
   ]
  },
  {
   "attachments": {},
   "cell_type": "markdown",
   "metadata": {},
   "source": [
    "## append vs extend"
   ]
  },
  {
   "cell_type": "code",
   "execution_count": 2,
   "metadata": {},
   "outputs": [
    {
     "name": "stdout",
     "output_type": "stream",
     "text": [
      "[14, 786, 7]\n",
      "[14, 786, 7, 500]\n",
      "[14, 786, 7, 500, 999]\n",
      "[14, 786, 7, 500, 999, [100, 100]]\n",
      "[100, 100]\n",
      "extend\n",
      "[14, 786, 7, 500, 999, [100, 100], 500]\n",
      "[14, 786, 7, 500, 999, [100, 100], 500, 999, 888, 777]\n"
     ]
    }
   ],
   "source": [
    "numbers = [14,786,7]\n",
    "print(numbers)\n",
    "numbers.append( 500 )\n",
    "print(numbers)\n",
    "numbers.append (999)\n",
    "print(numbers)\n",
    "numbers.append ( [100, 100] )\n",
    "print(numbers)\n",
    "print(numbers[-1])\n",
    "\n",
    "print('extend')\n",
    "numbers.extend([500])\n",
    "print( numbers )\n",
    "numbers.extend([999,888,777])\n",
    "print( numbers )"
   ]
  },
  {
   "cell_type": "code",
   "execution_count": 5,
   "metadata": {},
   "outputs": [
    {
     "name": "stdout",
     "output_type": "stream",
     "text": [
      "8\n",
      "888\n"
     ]
    }
   ],
   "source": [
    "print (numbers.index(888))\n",
    "print (numbers[8])"
   ]
  },
  {
   "cell_type": "code",
   "execution_count": 6,
   "metadata": {},
   "outputs": [
    {
     "name": "stdout",
     "output_type": "stream",
     "text": [
      "[14, 1000, 786, 7, 500, 999, [100, 100], 500, 999, 888, 777]\n"
     ]
    }
   ],
   "source": [
    "numbers.insert(1, 1000)\n",
    "print(numbers)"
   ]
  },
  {
   "cell_type": "code",
   "execution_count": 10,
   "metadata": {},
   "outputs": [
    {
     "name": "stdout",
     "output_type": "stream",
     "text": [
      "[1000, 999, 999, 888, 786, 777, 500, 500, 14, 7]\n"
     ]
    }
   ],
   "source": [
    "numbers.sort(reverse=True) #permanent\n",
    "print(numbers)"
   ]
  },
  {
   "cell_type": "code",
   "execution_count": 11,
   "metadata": {},
   "outputs": [
    {
     "name": "stdout",
     "output_type": "stream",
     "text": [
      "[2, 4, 562, 778]\n",
      "[562, 4, 778, 2]\n"
     ]
    }
   ],
   "source": [
    "nums = [ 562,4,778,2]\n",
    "print(sorted(nums))\n",
    "print (nums) #reverse back"
   ]
  },
  {
   "cell_type": "code",
   "execution_count": 32,
   "metadata": {},
   "outputs": [
    {
     "name": "stdout",
     "output_type": "stream",
     "text": [
      "[654, [[[48, [['65']]], 57]]]\n",
      "2\n",
      "[[[48, [['65']]], 57]]\n",
      "1\n",
      "[[48, [['65']]], 57]\n",
      "2\n",
      "[48, [['65']]]\n",
      "[['65']]\n",
      "65\n"
     ]
    }
   ],
   "source": [
    "nested_list = [654, [[[48, [['65']]], 57]]]\n",
    "print(nested_list)\n",
    "print(len(nested_list))\n",
    "print(nested_list[1]) #index 1 is 2nd one , index 0 is 1st one\n",
    "print(len(nested_list[1]))\n",
    "print(nested_list[1][0])\n",
    "print( len(nested_list[1][0]) )\n",
    "print( nested_list[1][0][0] )\n",
    "print(nested_list[1][0][0][1])\n",
    "print(nested_list[1][0][0][1][0][0])"
   ]
  },
  {
   "cell_type": "code",
   "execution_count": 36,
   "metadata": {},
   "outputs": [
    {
     "name": "stdout",
     "output_type": "stream",
     "text": [
      "[1000, 999, 999, 888, 786, 777, 500, 500, 14, 7]\n",
      "[1000, 999, 786, 500, 14]\n",
      "[1000, 888, 500, 7]\n"
     ]
    }
   ],
   "source": [
    "print(numbers)\n",
    "print(numbers[::2]) #from the begin to end every 2nd value\n",
    "print(numbers[::3])"
   ]
  },
  {
   "cell_type": "code",
   "execution_count": 40,
   "metadata": {},
   "outputs": [
    {
     "name": "stdout",
     "output_type": "stream",
     "text": [
      "True\n",
      "False\n",
      "True\n"
     ]
    }
   ],
   "source": [
    "print(14 in numbers)\n",
    "print (bool())\n",
    "print (bool('a'))\n"
   ]
  },
  {
   "attachments": {},
   "cell_type": "markdown",
   "metadata": {},
   "source": [
    "# operators with list"
   ]
  },
  {
   "cell_type": "code",
   "execution_count": 42,
   "metadata": {},
   "outputs": [
    {
     "name": "stdout",
     "output_type": "stream",
     "text": [
      "[1, 2, 3, 4, 5, 6]\n",
      "[1, 2, 3, 1, 2, 3, 1, 2, 3, 1, 2, 3, 1, 2, 3, 1, 2, 3, 1, 2, 3, 1, 2, 3, 1, 2, 3, 1, 2, 3]\n"
     ]
    }
   ],
   "source": [
    "print( [1,2,3] + [4,5,6])\n",
    "print( [1,2,3] * 10)"
   ]
  },
  {
   "cell_type": "code",
   "execution_count": 44,
   "metadata": {},
   "outputs": [
    {
     "name": "stdout",
     "output_type": "stream",
     "text": [
      "3\n",
      "[1, 2, 3, 4]\n"
     ]
    },
    {
     "data": {
      "text/plain": [
       "False"
      ]
     },
     "execution_count": 44,
     "metadata": {},
     "output_type": "execute_result"
    }
   ],
   "source": [
    "my_list = [1,2,3]\n",
    "print(len(my_list))\n",
    "my_list.append(4)\n",
    "print(my_list)\n",
    "5 in my_list\n"
   ]
  },
  {
   "cell_type": "code",
   "execution_count": 50,
   "metadata": {},
   "outputs": [
    {
     "name": "stdout",
     "output_type": "stream",
     "text": [
      "[456, 1, 1, 8, 411, 33, 274]\n",
      "[456, 1, 1, 8, 411, 33]\n",
      "[1, 1, 8, 33, 411, 456]\n",
      "2\n"
     ]
    }
   ],
   "source": [
    "combined = [456,1,1,8] + [411,33,274]\n",
    "print(combined)\n",
    "combined.pop()\n",
    "print(combined)\n",
    "combined.sort()\n",
    "print(combined)\n",
    "print(combined.count(1))\n"
   ]
  },
  {
   "attachments": {},
   "cell_type": "markdown",
   "metadata": {},
   "source": [
    "## mutable and immutable"
   ]
  },
  {
   "cell_type": "code",
   "execution_count": 55,
   "metadata": {},
   "outputs": [
    {
     "name": "stdout",
     "output_type": "stream",
     "text": [
      "before\n",
      "4534381656\n",
      "4534381656\n",
      "after\n",
      "4534381656\n",
      "4534381816\n",
      "1\n",
      "6\n"
     ]
    }
   ],
   "source": [
    "a = 1\n",
    "b = a\n",
    "print('before')\n",
    "print(id(a))\n",
    "print(id(b))\n",
    "b +=5\n",
    "print('after')\n",
    "print(id(a))\n",
    "print(id(b))\n",
    "print(a)\n",
    "print(b) #mutable\n"
   ]
  },
  {
   "cell_type": "code",
   "execution_count": 56,
   "metadata": {},
   "outputs": [
    {
     "name": "stdout",
     "output_type": "stream",
     "text": [
      "before\n",
      "4578805952\n",
      "4578805952\n",
      "after\n",
      "4578805952\n",
      "4578805952\n",
      "[1, 2, 3, 999]\n",
      "[1, 2, 3, 999]\n"
     ]
    }
   ],
   "source": [
    "a = [1,2,3]\n",
    "b = a\n",
    "print('before')\n",
    "print(id(a))\n",
    "print(id(b))\n",
    "b.append ( 999 )\n",
    "print('after')\n",
    "print(id(a))\n",
    "print(id(b))\n",
    "print(a)\n",
    "print(b) #immutable\n"
   ]
  }
 ],
 "metadata": {
  "kernelspec": {
   "display_name": "Python 3",
   "language": "python",
   "name": "python3"
  },
  "language_info": {
   "codemirror_mode": {
    "name": "ipython",
    "version": 3
   },
   "file_extension": ".py",
   "mimetype": "text/x-python",
   "name": "python",
   "nbconvert_exporter": "python",
   "pygments_lexer": "ipython3",
   "version": "3.11.2"
  },
  "orig_nbformat": 4
 },
 "nbformat": 4,
 "nbformat_minor": 2
}
