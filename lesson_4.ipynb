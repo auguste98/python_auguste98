{
 "cells": [
  {
   "attachments": {},
   "cell_type": "markdown",
   "metadata": {},
   "source": [
    "## If statement"
   ]
  },
  {
   "cell_type": "code",
   "execution_count": 59,
   "metadata": {},
   "outputs": [
    {
     "ename": "KeyboardInterrupt",
     "evalue": "Interrupted by user",
     "output_type": "error",
     "traceback": [
      "\u001b[0;31m---------------------------------------------------------------------------\u001b[0m",
      "\u001b[0;31mKeyboardInterrupt\u001b[0m                         Traceback (most recent call last)",
      "Cell \u001b[0;32mIn[59], line 1\u001b[0m\n\u001b[0;32m----> 1\u001b[0m age \u001b[39m=\u001b[39m \u001b[39mint\u001b[39m (\u001b[39minput\u001b[39;49m( \u001b[39m\"\u001b[39;49m\u001b[39mEnter your age:\u001b[39;49m\u001b[39m\"\u001b[39;49m))\n\u001b[1;32m      2\u001b[0m \u001b[39mprint\u001b[39m( age )\n\u001b[1;32m      4\u001b[0m \u001b[39mif\u001b[39;00m age \u001b[39m>\u001b[39m\u001b[39m=\u001b[39m \u001b[39m18\u001b[39m:\n",
      "File \u001b[0;32m~/Library/Python/3.11/lib/python/site-packages/ipykernel/kernelbase.py:1182\u001b[0m, in \u001b[0;36mKernel.raw_input\u001b[0;34m(self, prompt)\u001b[0m\n\u001b[1;32m   1180\u001b[0m     msg \u001b[39m=\u001b[39m \u001b[39m\"\u001b[39m\u001b[39mraw_input was called, but this frontend does not support input requests.\u001b[39m\u001b[39m\"\u001b[39m\n\u001b[1;32m   1181\u001b[0m     \u001b[39mraise\u001b[39;00m StdinNotImplementedError(msg)\n\u001b[0;32m-> 1182\u001b[0m \u001b[39mreturn\u001b[39;00m \u001b[39mself\u001b[39;49m\u001b[39m.\u001b[39;49m_input_request(\n\u001b[1;32m   1183\u001b[0m     \u001b[39mstr\u001b[39;49m(prompt),\n\u001b[1;32m   1184\u001b[0m     \u001b[39mself\u001b[39;49m\u001b[39m.\u001b[39;49m_parent_ident[\u001b[39m\"\u001b[39;49m\u001b[39mshell\u001b[39;49m\u001b[39m\"\u001b[39;49m],\n\u001b[1;32m   1185\u001b[0m     \u001b[39mself\u001b[39;49m\u001b[39m.\u001b[39;49mget_parent(\u001b[39m\"\u001b[39;49m\u001b[39mshell\u001b[39;49m\u001b[39m\"\u001b[39;49m),\n\u001b[1;32m   1186\u001b[0m     password\u001b[39m=\u001b[39;49m\u001b[39mFalse\u001b[39;49;00m,\n\u001b[1;32m   1187\u001b[0m )\n",
      "File \u001b[0;32m~/Library/Python/3.11/lib/python/site-packages/ipykernel/kernelbase.py:1225\u001b[0m, in \u001b[0;36mKernel._input_request\u001b[0;34m(self, prompt, ident, parent, password)\u001b[0m\n\u001b[1;32m   1222\u001b[0m \u001b[39mexcept\u001b[39;00m \u001b[39mKeyboardInterrupt\u001b[39;00m:\n\u001b[1;32m   1223\u001b[0m     \u001b[39m# re-raise KeyboardInterrupt, to truncate traceback\u001b[39;00m\n\u001b[1;32m   1224\u001b[0m     msg \u001b[39m=\u001b[39m \u001b[39m\"\u001b[39m\u001b[39mInterrupted by user\u001b[39m\u001b[39m\"\u001b[39m\n\u001b[0;32m-> 1225\u001b[0m     \u001b[39mraise\u001b[39;00m \u001b[39mKeyboardInterrupt\u001b[39;00m(msg) \u001b[39mfrom\u001b[39;00m \u001b[39mNone\u001b[39m\n\u001b[1;32m   1226\u001b[0m \u001b[39mexcept\u001b[39;00m \u001b[39mException\u001b[39;00m:\n\u001b[1;32m   1227\u001b[0m     \u001b[39mself\u001b[39m\u001b[39m.\u001b[39mlog\u001b[39m.\u001b[39mwarning(\u001b[39m\"\u001b[39m\u001b[39mInvalid Message:\u001b[39m\u001b[39m\"\u001b[39m, exc_info\u001b[39m=\u001b[39m\u001b[39mTrue\u001b[39;00m)\n",
      "\u001b[0;31mKeyboardInterrupt\u001b[0m: Interrupted by user"
     ]
    }
   ],
   "source": [
    "age = int (input( \"Enter your age:\"))\n",
    "print( age )\n",
    "\n",
    "if age >= 18:\n",
    "    print(f'You are above 18 years old')"
   ]
  },
  {
   "cell_type": "code",
   "execution_count": null,
   "metadata": {},
   "outputs": [
    {
     "name": "stdout",
     "output_type": "stream",
     "text": [
      "6\n",
      "You are under 18 years old\n"
     ]
    }
   ],
   "source": [
    "age = int (input( \"Enter your age:\"))\n",
    "print( age )\n",
    "\n",
    "if age >= 18:\n",
    "    print(f'You are above 18 years old')\n",
    "else:\n",
    "    print(f'You are under 18 years old')"
   ]
  },
  {
   "cell_type": "code",
   "execution_count": null,
   "metadata": {},
   "outputs": [
    {
     "name": "stdout",
     "output_type": "stream",
     "text": [
      "14\n",
      "You are between 12 and 18 years old\n"
     ]
    }
   ],
   "source": [
    "age = int (input( \"Enter your age:\"))\n",
    "print( age )\n",
    "\n",
    "if age >= 18:\n",
    "    print(f'You are above 18 years old')\n",
    "elif age >= 12:\n",
    "    print(f'You are between 12 and 18 years old')\n",
    "else:\n",
    "    print(f'You are under 18 years old')"
   ]
  },
  {
   "cell_type": "code",
   "execution_count": null,
   "metadata": {},
   "outputs": [
    {
     "name": "stdout",
     "output_type": "stream",
     "text": [
      "4 is not dividable by 3\n"
     ]
    }
   ],
   "source": [
    "number = int( input (\"Enter a number\"))\n",
    "\n",
    "if number % 3 == 0:\n",
    "    print(f'{number} is dividable by 3')\n",
    "else:\n",
    "    print(f'{number} is not dividable by 3')"
   ]
  },
  {
   "attachments": {},
   "cell_type": "markdown",
   "metadata": {},
   "source": [
    "## If tasks"
   ]
  },
  {
   "cell_type": "code",
   "execution_count": null,
   "metadata": {},
   "outputs": [
    {
     "name": "stdout",
     "output_type": "stream",
     "text": [
      "3\n",
      "6\n",
      "9\n",
      "12\n",
      "15\n",
      "18\n"
     ]
    }
   ],
   "source": [
    "for i in range (1, 21):\n",
    "    if i % 3 == 0:\n",
    "        print ( i )\n",
    "    # if i >10:\n",
    "    #    break"
   ]
  },
  {
   "cell_type": "code",
   "execution_count": null,
   "metadata": {},
   "outputs": [
    {
     "name": "stdout",
     "output_type": "stream",
     "text": [
      "2\n",
      "6\n",
      "12\n",
      "20\n",
      "30\n",
      "42\n",
      "56\n",
      "72\n",
      "90\n",
      "110\n",
      "132\n",
      "156\n",
      "182\n",
      "210\n",
      "240\n",
      "272\n",
      "306\n",
      "342\n",
      "380\n",
      "420\n",
      "462\n",
      "506\n",
      "552\n",
      "600\n",
      "650\n"
     ]
    }
   ],
   "source": [
    "current_amount = 0\n",
    "for i in range (1, 51):\n",
    "    if (current_amount + i ) % 2 == 0:\n",
    "        current_amount += i\n",
    "        print(current_amount)"
   ]
  },
  {
   "cell_type": "code",
   "execution_count": null,
   "metadata": {},
   "outputs": [
    {
     "name": "stdout",
     "output_type": "stream",
     "text": [
      "[('Monday', 12), ('Monday', 13), ('Monday', 14), ('Monday', 15), ('Monday', 16), ('Monday', 17), ('Wednesday', 12), ('Wednesday', 13), ('Wednesday', 14), ('Wednesday', 15), ('Wednesday', 16), ('Wednesday', 17)]\n"
     ]
    }
   ],
   "source": [
    "days = ['Monday', 'Tuesday', 'Wednesday', 'Thursday', 'Friday', 'Saturday', 'Sunday']\n",
    "hours = [10,11,12,13,14,15,16,17,18,19]\n",
    "\n",
    "combination = []\n",
    "\n",
    "for day in days:\n",
    "    if day in ['Monday', 'Wednesday']: #can alse use not in \n",
    "        for hour in hours:\n",
    "            if hour in range(12,18):\n",
    "                combination.append( (day,hour) )\n",
    "\n",
    "print(combination)\n",
    "\n",
    "\n"
   ]
  },
  {
   "attachments": {},
   "cell_type": "markdown",
   "metadata": {},
   "source": [
    "## None Declaration a.k.a null,nill,NaN"
   ]
  },
  {
   "cell_type": "code",
   "execution_count": null,
   "metadata": {},
   "outputs": [
    {
     "name": "stdout",
     "output_type": "stream",
     "text": [
      "None\n",
      "<class 'NoneType'>\n"
     ]
    }
   ],
   "source": [
    "nothing = None\n",
    "print(nothing)\n",
    "print(type(nothing))"
   ]
  },
  {
   "cell_type": "code",
   "execution_count": null,
   "metadata": {},
   "outputs": [
    {
     "name": "stdout",
     "output_type": "stream",
     "text": [
      "Hello Auguste\n"
     ]
    }
   ],
   "source": [
    "import random\n",
    "\n",
    "name = ''\n",
    "\n",
    "if random.random() > 0.5:\n",
    "    name = input('Enter yout name')\n",
    "\n",
    "if name != '':\n",
    "    print(f'Hello {name}')"
   ]
  },
  {
   "cell_type": "code",
   "execution_count": null,
   "metadata": {},
   "outputs": [
    {
     "name": "stdout",
     "output_type": "stream",
     "text": [
      "We couldn't read your name. Please try again\n"
     ]
    }
   ],
   "source": [
    "import random\n",
    "\n",
    "name = None\n",
    "\n",
    "if random.random() > 0.5:\n",
    "    name = input('Enter yout name')\n",
    "\n",
    "if name is not None and name != '':\n",
    "    print(f'Hello {name}')\n",
    "elif name is not None and name == '':\n",
    "    print(f'We couldn\\'t read your name. Please try again')\n",
    "else:\n",
    "    print ('we didn\\'t ask for the name')"
   ]
  },
  {
   "attachments": {},
   "cell_type": "markdown",
   "metadata": {},
   "source": [
    "## Dictionary"
   ]
  },
  {
   "cell_type": "code",
   "execution_count": null,
   "metadata": {},
   "outputs": [
    {
     "name": "stdout",
     "output_type": "stream",
     "text": [
      "{'name': 'Auguste', 'surname': 'Sukackaite', 'hobbies': ['tennis', 'fottball'], 'age': 24}\n"
     ]
    }
   ],
   "source": [
    "me = {\n",
    "    'name' : 'Auguste',\n",
    "    'surname' : 'Sukackaite',\n",
    "    'hobbies' : ['tennis','fottball'],\n",
    "    'age': 24\n",
    "}\n",
    "\n",
    "print(me)"
   ]
  },
  {
   "cell_type": "code",
   "execution_count": null,
   "metadata": {},
   "outputs": [
    {
     "name": "stdout",
     "output_type": "stream",
     "text": [
      "Auguste\n",
      "['tennis', 'fottball']\n"
     ]
    }
   ],
   "source": [
    "print( me ['name'])\n",
    "print( me['hobbies'])"
   ]
  },
  {
   "cell_type": "code",
   "execution_count": null,
   "metadata": {},
   "outputs": [
    {
     "name": "stdout",
     "output_type": "stream",
     "text": [
      "{'name': 'Auguste', 'surname': 'Sukackaite', 'hobbies': ['tennis', 'fottball'], 'age': 24, 'country': 'Lithuania'}\n",
      "{'name': 'Auguste', 'surname': 'Sukackaite', 'hobbies': ['tennis', 'fottball'], 'age': 24, 'country': 'Lithuania', 'county': 'Denmark'}\n"
     ]
    }
   ],
   "source": [
    "me['country'] = 'Lithuania'\n",
    "print(me)\n",
    "me['county'] = 'Denmark'\n",
    "print(me)"
   ]
  },
  {
   "cell_type": "code",
   "execution_count": null,
   "metadata": {},
   "outputs": [
    {
     "name": "stdout",
     "output_type": "stream",
     "text": [
      "True value\n",
      "False value\n",
      "none value\n",
      "number 2\n"
     ]
    },
    {
     "ename": "KeyError",
     "evalue": "3",
     "output_type": "error",
     "traceback": [
      "\u001b[0;31m---------------------------------------------------------------------------\u001b[0m",
      "\u001b[0;31mKeyError\u001b[0m                                  Traceback (most recent call last)",
      "Cell \u001b[0;32mIn[46], line 12\u001b[0m\n\u001b[1;32m     10\u001b[0m \u001b[39mprint\u001b[39m (strange_dict[\u001b[39mNone\u001b[39;00m])\n\u001b[1;32m     11\u001b[0m \u001b[39mprint\u001b[39m (strange_dict[\u001b[39m2\u001b[39m])\n\u001b[0;32m---> 12\u001b[0m \u001b[39mprint\u001b[39m (strange_dict[\u001b[39m3\u001b[39;49m])\n",
      "\u001b[0;31mKeyError\u001b[0m: 3"
     ]
    }
   ],
   "source": [
    "strange_dict = {\n",
    "    True : 'True value',\n",
    "    False : 'False value',\n",
    "    None : 'none value',\n",
    "    2: 'number 2'\n",
    "}\n",
    "\n",
    "print (strange_dict[True])\n",
    "print (strange_dict[False])\n",
    "print (strange_dict[None])\n",
    "print (strange_dict[2])\n",
    "print (strange_dict[3])"
   ]
  },
  {
   "cell_type": "code",
   "execution_count": null,
   "metadata": {},
   "outputs": [
    {
     "name": "stdout",
     "output_type": "stream",
     "text": [
      "[{'name': 'John', 'age': 30}, {'name': 'Sam', 'age': 25}]\n",
      "{'name': 'John', 'age': 30}\n",
      "John\n",
      "your name is John and you age is 30\n",
      "your name is Sam and you age is 25\n"
     ]
    }
   ],
   "source": [
    "people = [\n",
    "    {'name' : 'John', 'age' : 30},\n",
    "    {'name' : 'Sam', 'age' : 25}\n",
    "]\n",
    "\n",
    "print(people)\n",
    "print(people[0])\n",
    "print(people[0]['name'])\n",
    "\n",
    "for person in people:\n",
    "    print(f\"your name is {person ['name']} and you age is {person ['age']}\")"
   ]
  },
  {
   "cell_type": "code",
   "execution_count": null,
   "metadata": {},
   "outputs": [
    {
     "name": "stdout",
     "output_type": "stream",
     "text": [
      "{'name': 'Auguste', 'surname': 'Sukackaite', 'hobbies': ['tennis', 'fottball'], 'age': 24, 'country': 'Lithuania', 'county': 'Denmark'}\n",
      "6\n"
     ]
    }
   ],
   "source": [
    "print(me)\n",
    "print(len(me))"
   ]
  },
  {
   "attachments": {},
   "cell_type": "markdown",
   "metadata": {},
   "source": [
    "## deleting pairs"
   ]
  },
  {
   "cell_type": "code",
   "execution_count": null,
   "metadata": {},
   "outputs": [
    {
     "name": "stdout",
     "output_type": "stream",
     "text": [
      "{'name': 'Auguste', 'surname': 'Sukackaite', 'hobbies': ['tennis', 'fottball'], 'age': 24}\n",
      "24\n",
      "{'name': 'Auguste', 'surname': 'Sukackaite', 'hobbies': ['tennis', 'fottball']}\n",
      "{'name': 'Auguste', 'surname': 'Sukackaite'}\n"
     ]
    }
   ],
   "source": [
    "me = {\n",
    "    'name' : 'Auguste',\n",
    "    'surname' : 'Sukackaite',\n",
    "    'hobbies' : ['tennis','fottball'],\n",
    "    'age': 24\n",
    "}\n",
    "print(me)\n",
    "print( me.pop('age'))\n",
    "print(me)\n",
    "del me['hobbies']\n",
    "print(me)"
   ]
  },
  {
   "attachments": {},
   "cell_type": "markdown",
   "metadata": {},
   "source": [
    "## Dictionaries are mutable. Be careful when making copies"
   ]
  },
  {
   "attachments": {},
   "cell_type": "markdown",
   "metadata": {},
   "source": [
    "## dict methods"
   ]
  },
  {
   "cell_type": "code",
   "execution_count": 60,
   "metadata": {},
   "outputs": [
    {
     "name": "stdout",
     "output_type": "stream",
     "text": [
      "('age', 24)\n",
      "{'name': 'Auguste', 'surname': 'Sukackaite', 'hobbies': ['tennis', 'fottball']}\n",
      "('hobbies', ['tennis', 'fottball'])\n",
      "{'name': 'Auguste', 'surname': 'Sukackaite'}\n"
     ]
    }
   ],
   "source": [
    "me = {\n",
    "    'name' : 'Auguste',\n",
    "    'surname' : 'Sukackaite',\n",
    "    'hobbies' : ['tennis','fottball'],\n",
    "    'age': 24\n",
    "}\n",
    "\n",
    "print( me.popitem())\n",
    "print( me )\n",
    "print( me.popitem())\n",
    "print( me )"
   ]
  },
  {
   "cell_type": "code",
   "execution_count": 64,
   "metadata": {},
   "outputs": [
    {
     "name": "stdout",
     "output_type": "stream",
     "text": [
      "None\n",
      "Auguste\n",
      "could not find the key\n"
     ]
    }
   ],
   "source": [
    "me = {\n",
    "    'name' : 'Auguste',\n",
    "    'surname' : 'Sukackaite',\n",
    "    'hobbies' : ['tennis','fottball'],\n",
    "    'age': 24\n",
    "}\n",
    "\n",
    "me.get('non_exist')\n",
    "print(me.get('non_exist'))\n",
    "print(me.get('name'))\n",
    "print(me.get('non_exist','could not find the key'))"
   ]
  },
  {
   "cell_type": "code",
   "execution_count": 66,
   "metadata": {},
   "outputs": [
    {
     "name": "stdout",
     "output_type": "stream",
     "text": [
      "{'name': 'Auguste', 'surname': 'Sukackaite', 'hobbies': ['tennis', 'fottball'], 'age': 26}\n"
     ]
    }
   ],
   "source": [
    "me = {\n",
    "    'name' : 'Auguste',\n",
    "    'surname' : 'Sukackaite',\n",
    "    'hobbies' : ['tennis','fottball'],\n",
    "    'age': 24\n",
    "}\n",
    "\n",
    "me['age'] = 26\n",
    "print(me)\n",
    "update_dict = {'hobbies' : ['tennis','fottball','bicycle'], 'age': 27,'city':'Vilnius'}"
   ]
  },
  {
   "cell_type": "code",
   "execution_count": 69,
   "metadata": {},
   "outputs": [
    {
     "name": "stdout",
     "output_type": "stream",
     "text": [
      "dict_keys(['name', 'surname', 'hobbies', 'age'])\n",
      "name\n",
      "surname\n",
      "hobbies\n",
      "age\n"
     ]
    }
   ],
   "source": [
    "print(me.keys())\n",
    "#for key in me.keys():\n",
    "for key in me:\n",
    "    print(key)"
   ]
  },
  {
   "cell_type": "code",
   "execution_count": 70,
   "metadata": {},
   "outputs": [
    {
     "name": "stdout",
     "output_type": "stream",
     "text": [
      "Auguste\n",
      "Sukackaite\n",
      "['tennis', 'fottball']\n",
      "26\n"
     ]
    }
   ],
   "source": [
    "for key in me.values():\n",
    "    print(key)"
   ]
  },
  {
   "cell_type": "code",
   "execution_count": 76,
   "metadata": {},
   "outputs": [
    {
     "name": "stdout",
     "output_type": "stream",
     "text": [
      "key is name with a value of Auguste\n",
      "key is surname with a value of Sukackaite\n",
      "key is hobbies with a value of ['tennis', 'fottball']\n",
      "key is age with a value of 26\n"
     ]
    }
   ],
   "source": [
    "#for key, val in me.items()\n",
    "for k, v in me.items():\n",
    "    print(f'key is {k} with a value of {v}')\n"
   ]
  }
 ],
 "metadata": {
  "kernelspec": {
   "display_name": "Python 3",
   "language": "python",
   "name": "python3"
  },
  "language_info": {
   "codemirror_mode": {
    "name": "ipython",
    "version": 3
   },
   "file_extension": ".py",
   "mimetype": "text/x-python",
   "name": "python",
   "nbconvert_exporter": "python",
   "pygments_lexer": "ipython3",
   "version": "3.11.2"
  },
  "orig_nbformat": 4
 },
 "nbformat": 4,
 "nbformat_minor": 2
}
