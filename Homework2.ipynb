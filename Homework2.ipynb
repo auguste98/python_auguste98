{
 "cells": [
  {
   "attachments": {},
   "cell_type": "markdown",
   "metadata": {},
   "source": [
    "## HW 2"
   ]
  },
  {
   "cell_type": "code",
   "execution_count": 19,
   "metadata": {},
   "outputs": [
    {
     "name": "stdout",
     "output_type": "stream",
     "text": [
      " 1 -\n",
      " 2 - Fizz\n",
      " 3 - Buzz\n",
      " 4 - Fizz\n",
      " 5 -\n",
      " 6 - FizzBuzz\n",
      " 7 -\n",
      " 8 - Fizz\n",
      " 9 - Buzz\n",
      " 10 - Fizz\n",
      " 11 -\n",
      " 12 - FizzBuzz\n",
      " 13 -\n",
      " 14 - Fizz\n",
      " 15 - Buzz\n",
      " 16 - Fizz\n",
      " 17 -\n",
      " 18 - FizzBuzz\n",
      " 19 -\n",
      " 20 - Fizz\n",
      " 21 - Buzz\n",
      " 22 - Fizz\n",
      " 23 -\n",
      " 24 - FizzBuzz\n",
      " 25 -\n",
      " 26 - Fizz\n",
      " 27 - Buzz\n",
      " 28 - Fizz\n",
      " 29 -\n",
      " 30 - FizzBuzz\n",
      " 31 -\n",
      " 32 - Fizz\n",
      " 33 - Buzz\n",
      " 34 - Fizz\n",
      " 35 -\n",
      " 36 - FizzBuzz\n",
      " 37 -\n",
      " 38 - Fizz\n",
      " 39 - Buzz\n",
      " 40 - Fizz\n",
      " 41 -\n",
      " 42 - FizzBuzz\n",
      " 43 -\n",
      " 44 - Fizz\n",
      " 45 - Buzz\n",
      " 46 - Fizz\n",
      " 47 -\n",
      " 48 - FizzBuzz\n",
      " 49 -\n",
      " 50 - Fizz\n",
      " 51 - Buzz\n",
      " 52 - Fizz\n",
      " 53 -\n",
      " 54 - FizzBuzz\n",
      " 55 -\n",
      " 56 - Fizz\n",
      " 57 - Buzz\n",
      " 58 - Fizz\n",
      " 59 -\n",
      " 60 - FizzBuzz\n",
      " 61 -\n",
      " 62 - Fizz\n",
      " 63 - Buzz\n",
      " 64 - Fizz\n",
      " 65 -\n",
      " 66 - FizzBuzz\n",
      " 67 -\n",
      " 68 - Fizz\n",
      " 69 - Buzz\n",
      " 70 - Fizz\n",
      " 71 -\n",
      " 72 - FizzBuzz\n",
      " 73 -\n",
      " 74 - Fizz\n",
      " 75 - Buzz\n",
      " 76 - Fizz\n",
      " 77 -\n",
      " 78 - FizzBuzz\n",
      " 79 -\n",
      " 80 - Fizz\n",
      " 81 - Buzz\n",
      " 82 - Fizz\n",
      " 83 -\n",
      " 84 - FizzBuzz\n",
      " 85 -\n",
      " 86 - Fizz\n",
      " 87 - Buzz\n",
      " 88 - Fizz\n",
      " 89 -\n",
      " 90 - FizzBuzz\n",
      " 91 -\n",
      " 92 - Fizz\n",
      " 93 - Buzz\n",
      " 94 - Fizz\n",
      " 95 -\n",
      " 96 - FizzBuzz\n",
      " 97 -\n",
      " 98 - Fizz\n",
      " 99 - Buzz\n",
      " 100 - Fizz\n"
     ]
    }
   ],
   "source": [
    "# 1. From the first 100 numbers, if the number is divisible by 2 without a residue, print ‘Fizz’, if the number is divisible by 3 without a residue, print ‘Buzz’, if the number is divisible by 2 and 3 without a residue, print ‘FizzBuzz’\n",
    "\n",
    "for number in range (1, 101):\n",
    "    if number % 2 == 0 and number % 3 == 0:\n",
    "        print (f' {number} - FizzBuzz')\n",
    "    elif number % 2 == 0:\n",
    "        print (f' {number} - Fizz')\n",
    "    elif number % 3 == 0:\n",
    "        print (f' {number} - Buzz')\n",
    "    else:\n",
    "        print (f' {number} -')\n"
   ]
  },
  {
   "cell_type": "code",
   "execution_count": 16,
   "metadata": {},
   "outputs": [
    {
     "name": "stdout",
     "output_type": "stream",
     "text": [
      "1\n",
      "2\n",
      "3\n",
      "4\n",
      "6\n",
      "7\n",
      "8\n",
      "9\n",
      "11\n",
      "12\n",
      "13\n",
      "14\n"
     ]
    }
   ],
   "source": [
    "# 2. Let's choose a number, if the number entered is greater than or equal to 10. \n",
    "# go through all numbers from 1 to entered number and  print numbers \n",
    "# that divide by 5 with the remainder\n",
    "\n",
    "number = 15\n",
    "if number >= 10:\n",
    "    for num in range (1, number + 1):\n",
    "        if num % 5 != 0:\n",
    "            print(num)\n",
    "else:\n",
    "    print('number is less than 10')\n",
    "\n"
   ]
  },
  {
   "cell_type": "code",
   "execution_count": 26,
   "metadata": {},
   "outputs": [
    {
     "name": "stdout",
     "output_type": "stream",
     "text": [
      "[('1', 'hi', 100), ('1', 'hi', 200), ('1', 'hi', 40), ('1', 'hi', 10), ('1', 'evening', 100), ('1', 'evening', 200), ('1', 'evening', 40), ('1', 'evening', 10), ('1', 'what a beautiful day', 100), ('1', 'what a beautiful day', 200), ('1', 'what a beautiful day', 40), ('1', 'what a beautiful day', 10), ('1', 'weather', 100), ('1', 'weather', 200), ('1', 'weather', 40), ('1', 'weather', 10), ('1', '10 degrees outside', 100), ('1', '10 degrees outside', 200), ('1', '10 degrees outside', 40), ('1', '10 degrees outside', 10), ('2', 'hi', 100), ('2', 'hi', 200), ('2', 'hi', 40), ('2', 'hi', 10), ('2', 'evening', 100), ('2', 'evening', 200), ('2', 'evening', 40), ('2', 'evening', 10), ('2', 'what a beautiful day', 100), ('2', 'what a beautiful day', 200), ('2', 'what a beautiful day', 40), ('2', 'what a beautiful day', 10), ('2', 'weather', 100), ('2', 'weather', 200), ('2', 'weather', 40), ('2', 'weather', 10), ('2', '10 degrees outside', 100), ('2', '10 degrees outside', 200), ('2', '10 degrees outside', 40), ('2', '10 degrees outside', 10), ('3', 'hi', 100), ('3', 'hi', 200), ('3', 'hi', 40), ('3', 'hi', 10), ('3', 'evening', 100), ('3', 'evening', 200), ('3', 'evening', 40), ('3', 'evening', 10), ('3', 'what a beautiful day', 100), ('3', 'what a beautiful day', 200), ('3', 'what a beautiful day', 40), ('3', 'what a beautiful day', 10), ('3', 'weather', 100), ('3', 'weather', 200), ('3', 'weather', 40), ('3', 'weather', 10), ('3', '10 degrees outside', 100), ('3', '10 degrees outside', 200), ('3', '10 degrees outside', 40), ('3', '10 degrees outside', 10), ('4', 'hi', 100), ('4', 'hi', 200), ('4', 'hi', 40), ('4', 'hi', 10), ('4', 'evening', 100), ('4', 'evening', 200), ('4', 'evening', 40), ('4', 'evening', 10), ('4', 'what a beautiful day', 100), ('4', 'what a beautiful day', 200), ('4', 'what a beautiful day', 40), ('4', 'what a beautiful day', 10), ('4', 'weather', 100), ('4', 'weather', 200), ('4', 'weather', 40), ('4', 'weather', 10), ('4', '10 degrees outside', 100), ('4', '10 degrees outside', 200), ('4', '10 degrees outside', 40), ('4', '10 degrees outside', 10), ('5', 'hi', 100), ('5', 'hi', 200), ('5', 'hi', 40), ('5', 'hi', 10), ('5', 'evening', 100), ('5', 'evening', 200), ('5', 'evening', 40), ('5', 'evening', 10), ('5', 'what a beautiful day', 100), ('5', 'what a beautiful day', 200), ('5', 'what a beautiful day', 40), ('5', 'what a beautiful day', 10), ('5', 'weather', 100), ('5', 'weather', 200), ('5', 'weather', 40), ('5', 'weather', 10), ('5', '10 degrees outside', 100), ('5', '10 degrees outside', 200), ('5', '10 degrees outside', 40), ('5', '10 degrees outside', 10)]\n",
      "[('1', '10 degrees outside', 10), ('1', '10 degrees outside', 40), ('1', '10 degrees outside', 100), ('1', '10 degrees outside', 200), ('1', 'evening', 10), ('1', 'evening', 40), ('1', 'evening', 100), ('1', 'evening', 200), ('1', 'hi', 10), ('1', 'hi', 40), ('1', 'hi', 100), ('1', 'hi', 200), ('1', 'weather', 10), ('1', 'weather', 40), ('1', 'weather', 100), ('1', 'weather', 200), ('1', 'what a beautiful day', 10), ('1', 'what a beautiful day', 40), ('1', 'what a beautiful day', 100), ('1', 'what a beautiful day', 200), ('2', '10 degrees outside', 10), ('2', '10 degrees outside', 40), ('2', '10 degrees outside', 100), ('2', '10 degrees outside', 200), ('2', 'evening', 10), ('2', 'evening', 40), ('2', 'evening', 100), ('2', 'evening', 200), ('2', 'hi', 10), ('2', 'hi', 40), ('2', 'hi', 100), ('2', 'hi', 200), ('2', 'weather', 10), ('2', 'weather', 40), ('2', 'weather', 100), ('2', 'weather', 200), ('2', 'what a beautiful day', 10), ('2', 'what a beautiful day', 40), ('2', 'what a beautiful day', 100), ('2', 'what a beautiful day', 200), ('3', '10 degrees outside', 10), ('3', '10 degrees outside', 40), ('3', '10 degrees outside', 100), ('3', '10 degrees outside', 200), ('3', 'evening', 10), ('3', 'evening', 40), ('3', 'evening', 100), ('3', 'evening', 200), ('3', 'hi', 10), ('3', 'hi', 40), ('3', 'hi', 100), ('3', 'hi', 200), ('3', 'weather', 10), ('3', 'weather', 40), ('3', 'weather', 100), ('3', 'weather', 200), ('3', 'what a beautiful day', 10), ('3', 'what a beautiful day', 40), ('3', 'what a beautiful day', 100), ('3', 'what a beautiful day', 200), ('4', '10 degrees outside', 10), ('4', '10 degrees outside', 40), ('4', '10 degrees outside', 100), ('4', '10 degrees outside', 200), ('4', 'evening', 10), ('4', 'evening', 40), ('4', 'evening', 100), ('4', 'evening', 200), ('4', 'hi', 10), ('4', 'hi', 40), ('4', 'hi', 100), ('4', 'hi', 200), ('4', 'weather', 10), ('4', 'weather', 40), ('4', 'weather', 100), ('4', 'weather', 200), ('4', 'what a beautiful day', 10), ('4', 'what a beautiful day', 40), ('4', 'what a beautiful day', 100), ('4', 'what a beautiful day', 200), ('5', '10 degrees outside', 10), ('5', '10 degrees outside', 40), ('5', '10 degrees outside', 100), ('5', '10 degrees outside', 200), ('5', 'evening', 10), ('5', 'evening', 40), ('5', 'evening', 100), ('5', 'evening', 200), ('5', 'hi', 10), ('5', 'hi', 40), ('5', 'hi', 100), ('5', 'hi', 200), ('5', 'weather', 10), ('5', 'weather', 40), ('5', 'weather', 100), ('5', 'weather', 200), ('5', 'what a beautiful day', 10), ('5', 'what a beautiful day', 40), ('5', 'what a beautiful day', 100), ('5', 'what a beautiful day', 200)]\n",
      "[('1', 'hi', 100), ('1', 'hi', 200), ('1', 'hi', 40), ('1', 'hi', 10), ('1', 'evening', 100), ('1', 'evening', 200), ('1', 'evening', 40), ('1', 'evening', 10), ('1', 'what a beautiful day', 100), ('1', 'what a beautiful day', 200), ('1', 'what a beautiful day', 40), ('1', 'what a beautiful day', 10), ('1', 'weather', 100), ('1', 'weather', 200), ('1', 'weather', 40), ('1', 'weather', 10), ('1', '10 degrees outside', 100), ('1', '10 degrees outside', 200), ('1', '10 degrees outside', 40), ('1', '10 degrees outside', 10), ('2', 'hi', 100), ('2', 'hi', 200), ('2', 'hi', 40), ('2', 'hi', 10), ('2', 'evening', 100), ('2', 'evening', 200), ('2', 'evening', 40), ('2', 'evening', 10), ('2', 'what a beautiful day', 100), ('2', 'what a beautiful day', 200), ('2', 'what a beautiful day', 40), ('2', 'what a beautiful day', 10), ('2', 'weather', 100), ('2', 'weather', 200), ('2', 'weather', 40), ('2', 'weather', 10), ('2', '10 degrees outside', 100), ('2', '10 degrees outside', 200), ('2', '10 degrees outside', 40), ('2', '10 degrees outside', 10), ('3', 'hi', 100), ('3', 'hi', 200), ('3', 'hi', 40), ('3', 'hi', 10), ('3', 'evening', 100), ('3', 'evening', 200), ('3', 'evening', 40), ('3', 'evening', 10), ('3', 'what a beautiful day', 100), ('3', 'what a beautiful day', 200), ('3', 'what a beautiful day', 40), ('3', 'what a beautiful day', 10), ('3', 'weather', 100), ('3', 'weather', 200), ('3', 'weather', 40), ('3', 'weather', 10), ('3', '10 degrees outside', 100), ('3', '10 degrees outside', 200), ('3', '10 degrees outside', 40), ('3', '10 degrees outside', 10), ('4', 'hi', 100), ('4', 'hi', 200), ('4', 'hi', 40), ('4', 'hi', 10), ('4', 'evening', 100), ('4', 'evening', 200), ('4', 'evening', 40), ('4', 'evening', 10), ('4', 'what a beautiful day', 100), ('4', 'what a beautiful day', 200), ('4', 'what a beautiful day', 40), ('4', 'what a beautiful day', 10), ('4', 'weather', 100), ('4', 'weather', 200), ('4', 'weather', 40), ('4', 'weather', 10), ('4', '10 degrees outside', 100), ('4', '10 degrees outside', 200), ('4', '10 degrees outside', 40), ('4', '10 degrees outside', 10), ('5', 'hi', 100), ('5', 'hi', 200), ('5', 'hi', 40), ('5', 'hi', 10), ('5', 'evening', 100), ('5', 'evening', 200), ('5', 'evening', 40), ('5', 'evening', 10), ('5', 'what a beautiful day', 100), ('5', 'what a beautiful day', 200), ('5', 'what a beautiful day', 40), ('5', 'what a beautiful day', 10), ('5', 'weather', 100), ('5', 'weather', 200), ('5', 'weather', 40), ('5', 'weather', 10), ('5', '10 degrees outside', 100), ('5', '10 degrees outside', 200), ('5', '10 degrees outside', 40), ('5', '10 degrees outside', 10)]\n",
      "[('1', 'hi', 100), ('1', 'hi', 200), ('1', 'hi', 40), ('1', 'hi', 10), ('2', 'hi', 100), ('2', 'hi', 200), ('2', 'hi', 40), ('2', 'hi', 10), ('3', 'hi', 100), ('3', 'hi', 200), ('3', 'hi', 40), ('3', 'hi', 10), ('4', 'hi', 100), ('4', 'hi', 200), ('4', 'hi', 40), ('4', 'hi', 10), ('5', 'hi', 100), ('5', 'hi', 200), ('5', 'hi', 40), ('5', 'hi', 10), ('1', 'evening', 100), ('1', 'evening', 200), ('1', 'evening', 40), ('1', 'evening', 10), ('1', 'weather', 100), ('1', 'weather', 200), ('1', 'weather', 40), ('1', 'weather', 10), ('2', 'evening', 100), ('2', 'evening', 200), ('2', 'evening', 40), ('2', 'evening', 10), ('2', 'weather', 100), ('2', 'weather', 200), ('2', 'weather', 40), ('2', 'weather', 10), ('3', 'evening', 100), ('3', 'evening', 200), ('3', 'evening', 40), ('3', 'evening', 10), ('3', 'weather', 100), ('3', 'weather', 200), ('3', 'weather', 40), ('3', 'weather', 10), ('4', 'evening', 100), ('4', 'evening', 200), ('4', 'evening', 40), ('4', 'evening', 10), ('4', 'weather', 100), ('4', 'weather', 200), ('4', 'weather', 40), ('4', 'weather', 10), ('5', 'evening', 100), ('5', 'evening', 200), ('5', 'evening', 40), ('5', 'evening', 10), ('5', 'weather', 100), ('5', 'weather', 200), ('5', 'weather', 40), ('5', 'weather', 10), ('1', '10 degrees outside', 100), ('1', '10 degrees outside', 200), ('1', '10 degrees outside', 40), ('1', '10 degrees outside', 10), ('2', '10 degrees outside', 100), ('2', '10 degrees outside', 200), ('2', '10 degrees outside', 40), ('2', '10 degrees outside', 10), ('3', '10 degrees outside', 100), ('3', '10 degrees outside', 200), ('3', '10 degrees outside', 40), ('3', '10 degrees outside', 10), ('4', '10 degrees outside', 100), ('4', '10 degrees outside', 200), ('4', '10 degrees outside', 40), ('4', '10 degrees outside', 10), ('5', '10 degrees outside', 100), ('5', '10 degrees outside', 200), ('5', '10 degrees outside', 40), ('5', '10 degrees outside', 10), ('1', 'what a beautiful day', 100), ('1', 'what a beautiful day', 200), ('1', 'what a beautiful day', 40), ('1', 'what a beautiful day', 10), ('2', 'what a beautiful day', 100), ('2', 'what a beautiful day', 200), ('2', 'what a beautiful day', 40), ('2', 'what a beautiful day', 10), ('3', 'what a beautiful day', 100), ('3', 'what a beautiful day', 200), ('3', 'what a beautiful day', 40), ('3', 'what a beautiful day', 10), ('4', 'what a beautiful day', 100), ('4', 'what a beautiful day', 200), ('4', 'what a beautiful day', 40), ('4', 'what a beautiful day', 10), ('5', 'what a beautiful day', 100), ('5', 'what a beautiful day', 200), ('5', 'what a beautiful day', 40), ('5', 'what a beautiful day', 10)]\n",
      "[('1', 'hi', 100), ('1', 'hi', 200), ('1', 'hi', 40), ('1', 'hi', 10), ('1', 'evening', 100), ('1', 'evening', 200), ('1', 'evening', 40), ('1', 'evening', 10), ('1', '10 degrees outside', 100), ('1', '10 degrees outside', 200), ('1', '10 degrees outside', 40), ('1', '10 degrees outside', 10), ('2', 'hi', 100), ('2', 'hi', 200), ('2', 'hi', 40), ('2', 'hi', 10), ('2', 'evening', 100), ('2', 'evening', 200), ('2', 'evening', 40), ('2', 'evening', 10), ('2', '10 degrees outside', 100), ('2', '10 degrees outside', 200), ('2', '10 degrees outside', 40), ('2', '10 degrees outside', 10), ('3', 'hi', 100), ('3', 'hi', 200), ('3', 'hi', 40), ('3', 'hi', 10), ('3', 'evening', 100), ('3', 'evening', 200), ('3', 'evening', 40), ('3', 'evening', 10), ('3', '10 degrees outside', 100), ('3', '10 degrees outside', 200), ('3', '10 degrees outside', 40), ('3', '10 degrees outside', 10), ('4', 'hi', 100), ('4', 'hi', 200), ('4', 'hi', 40), ('4', 'hi', 10), ('4', 'evening', 100), ('4', 'evening', 200), ('4', 'evening', 40), ('4', 'evening', 10), ('4', '10 degrees outside', 100), ('4', '10 degrees outside', 200), ('4', '10 degrees outside', 40), ('4', '10 degrees outside', 10), ('5', 'hi', 100), ('5', 'hi', 200), ('5', 'hi', 40), ('5', 'hi', 10), ('5', 'evening', 100), ('5', 'evening', 200), ('5', 'evening', 40), ('5', 'evening', 10), ('5', '10 degrees outside', 100), ('5', '10 degrees outside', 200), ('5', '10 degrees outside', 40), ('5', '10 degrees outside', 10), ('1', 'weather', 100), ('1', 'weather', 200), ('1', 'weather', 40), ('1', 'weather', 10), ('2', 'weather', 100), ('2', 'weather', 200), ('2', 'weather', 40), ('2', 'weather', 10), ('3', 'weather', 100), ('3', 'weather', 200), ('3', 'weather', 40), ('3', 'weather', 10), ('4', 'weather', 100), ('4', 'weather', 200), ('4', 'weather', 40), ('4', 'weather', 10), ('5', 'weather', 100), ('5', 'weather', 200), ('5', 'weather', 40), ('5', 'weather', 10), ('1', 'what a beautiful day', 100), ('1', 'what a beautiful day', 200), ('1', 'what a beautiful day', 40), ('1', 'what a beautiful day', 10), ('2', 'what a beautiful day', 100), ('2', 'what a beautiful day', 200), ('2', 'what a beautiful day', 40), ('2', 'what a beautiful day', 10), ('3', 'what a beautiful day', 100), ('3', 'what a beautiful day', 200), ('3', 'what a beautiful day', 40), ('3', 'what a beautiful day', 10), ('4', 'what a beautiful day', 100), ('4', 'what a beautiful day', 200), ('4', 'what a beautiful day', 40), ('4', 'what a beautiful day', 10), ('5', 'what a beautiful day', 100), ('5', 'what a beautiful day', 200), ('5', 'what a beautiful day', 40), ('5', 'what a beautiful day', 10)]\n"
     ]
    }
   ],
   "source": [
    "# 3. What is the length of a list made up of combinations of lists provided if we want to \n",
    "# find all possible values? Sort the list from highest to lowest. Might need \n",
    "#to do some manipulation or find some help on the internet\n",
    "\n",
    "a = ['1','2','3','4','5']\n",
    "b = ['hi', 'evening', 'what a beautiful day', 'weather', '10 degrees outside'] \n",
    "c = ['100', '200', 40, 10]\n",
    "\n",
    "c[0] = int (c[0])\n",
    "c[1] = int (c[1])\n",
    "\n",
    "combinations =[]\n",
    "for first in a:\n",
    "    for second in b:\n",
    "        for third in c:\n",
    "            combinations.append( (first,second,third))\n",
    "print(combinations)\n",
    "print( sorted(combinations) )\n",
    "print(sorted(combinations, key =lambda x:[2]) )\n",
    "print(sorted(combinations, key =lambda x: len(x[1]) ) )\n",
    "print(sorted(combinations, key =lambda x: x[1].count('a') ) )\n",
    "\n",
    "\n"
   ]
  },
  {
   "cell_type": "code",
   "execution_count": 27,
   "metadata": {},
   "outputs": [
    {
     "name": "stdout",
     "output_type": "stream",
     "text": [
      "Ford\n",
      "3\n",
      "{'brand': 'Ford', 'model': 'Mustang', 'year': 2020}\n"
     ]
    }
   ],
   "source": [
    "# 4. get value ‘Ford’, get the length of the dictionary car, change the year to 2020\n",
    "\n",
    "car =    {\n",
    "  \"brand\": \"Ford\",\n",
    "  \"model\": \"Mustang\",\n",
    "  \"year\": 1964\n",
    "}\n",
    "\n",
    "print( car ['brand'] )\n",
    "print (len (car))\n",
    "car [ 'year' ] = 2020\n",
    "print(car)"
   ]
  },
  {
   "cell_type": "code",
   "execution_count": 28,
   "metadata": {},
   "outputs": [
    {
     "name": "stdout",
     "output_type": "stream",
     "text": [
      "{'brand': 'Ford', 'model': 'Mustang', 'year': 2020, 'color': 'red', 'used': True}\n"
     ]
    }
   ],
   "source": [
    "# 5. Add new values to the existing dictionary (from task 4.)\n",
    "\n",
    "car.update( {'color' : 'red', 'used' : True} )\n",
    "print(car)\n"
   ]
  },
  {
   "cell_type": "code",
   "execution_count": 30,
   "metadata": {},
   "outputs": [
    {
     "name": "stdout",
     "output_type": "stream",
     "text": [
      "{'year': None, 'color': 'red', 'used': True}\n"
     ]
    }
   ],
   "source": [
    "# 6. Delete the ‘brand’ key and value from the following dictionary and change the value of year to None.\n",
    "car =    {\n",
    "  \"brand\": \"Ford\",\n",
    "  \"year\": 1992,\n",
    "  'color' : 'red',\n",
    "  'used' : True\n",
    "}\n",
    "\n",
    "del car['brand']\n",
    "#car.pop()\n",
    "car['year'] = None\n",
    "print(car)"
   ]
  }
 ],
 "metadata": {
  "kernelspec": {
   "display_name": "Python 3",
   "language": "python",
   "name": "python3"
  },
  "language_info": {
   "codemirror_mode": {
    "name": "ipython",
    "version": 3
   },
   "file_extension": ".py",
   "mimetype": "text/x-python",
   "name": "python",
   "nbconvert_exporter": "python",
   "pygments_lexer": "ipython3",
   "version": "3.11.2"
  },
  "orig_nbformat": 4
 },
 "nbformat": 4,
 "nbformat_minor": 2
}
